{
 "cells": [
  {
   "attachments": {
    "AK.png": {
     "image/png": "[encoded data removed]"
    }
   },
   "cell_type": "markdown",
   "metadata": {},
   "source": [
    "___\n",
    "\n",
    "<a href='https://akibkhan.tk/'>![AK.png](attachment:AK.png) </a>\n",
    "___\n",
    "<center><em>Content Copyright by Akib Khan </em></center>"
   ]
  },
  {
   "cell_type": "markdown",
   "metadata": {},
   "source": [
    "# <CENTER>  SEQUENTIAL DATA TYPE"
   ]
  },
  {
   "cell_type": "markdown",
   "metadata": {},
   "source": [
    "Sequence Type Data Types are used for storing Sequence of Values. We have 4 types of Data type Under Sequence data types. They are\n",
    "\n",
    "                                    1) str\n",
    "                                    2) bytes\n",
    "                                    3) bytearray\n",
    "                                    4) range"
   ]
  },
  {
   "cell_type": "markdown",
   "metadata": {},
   "source": [
    "##  1. str"
   ]
  },
  {
   "cell_type": "markdown",
   "metadata": {},
   "source": [
    "- 'str' is one of the pre-defined class and it is treated as Sequence data type.\n",
    "- The purpose of str data type is that \" To store String data \".\n",
    "- A String is a collection (or) sequence of Charcaters/alpha-numeric / Special symbols.\n",
    "- Python programming does not contains char data type and character values also stored by using str data type.\n"
   ]
  },
  {
   "cell_type": "code",
   "execution_count": 3,
   "metadata": {},
   "outputs": [
    {
     "name": "stdout",
     "output_type": "stream",
     "text": [
      "KVR <class 'str'>\n",
      "K <class 'str'>\n",
      "KVR <class 'str'>\n",
      "K\n",
      "python$abc <class 'str'>\n"
     ]
    }
   ],
   "source": [
    "s=\"KVR\"\n",
    "print(s, type(s))              #--------KVR    <class, 'str'>\n",
    "\n",
    "s=\"K\"\n",
    "print(s, type(s))            #--------K   <class, 'str'>\n",
    "\n",
    "\n",
    "s='KVR'\n",
    "print(s, type(s))                #-------------KVR    <class, 'str'>\n",
    "\n",
    "s='K'\n",
    "print(s)              #-------------K\n",
    "\n",
    "s='python$abc'\n",
    "print(s, type(s))            #-------------'python$abc'   <class, 'str'>\n",
    "\n"
   ]
  },
  {
   "cell_type": "markdown",
   "metadata": {},
   "source": [
    "### Organization of str data:\n",
    "\n",
    "- The str data can be organized in two ways. They are\n",
    "\t\ta) Single Line String Data\n",
    "\t\tb) Multi Line String Data\n",
    "\n"
   ]
  },
  {
   "cell_type": "markdown",
   "metadata": {},
   "source": [
    "#### a) Single Line String Data:\n",
    "\n",
    "- To organize (or) store  Single Line String Data, we use either double quotes or single Quotes.\n",
    "\n",
    "- Syntax-1:\t\n",
    "\t\t\t\"  Single Line \"\n",
    "- Syntax-2:\n",
    "\t\t\t' Single Line '\n",
    "\n"
   ]
  },
  {
   "cell_type": "code",
   "execution_count": 18,
   "metadata": {},
   "outputs": [
    {
     "name": "stdout",
     "output_type": "stream",
     "text": [
      "Python Programming <class 'str'>\n",
      "Java Programming <class 'str'>\n"
     ]
    }
   ],
   "source": [
    "\n",
    "s1=\"Python Programming\"\n",
    "print(s1, type(s1))                  #------------Python Programming   <class 'str'>\n",
    "\n",
    "s2='Java Programming'\n",
    "print(s2, type(s2))              #-------------------Java Programming  <class 'str'>\n"
   ]
  },
  {
   "cell_type": "code",
   "execution_count": 17,
   "metadata": {},
   "outputs": [
    {
     "ename": "SyntaxError",
     "evalue": "EOL while scanning string literal (<ipython-input-17-954a2d94de35>, line 1)",
     "output_type": "error",
     "traceback": [
      "\u001b[1;36m  File \u001b[1;32m\"<ipython-input-17-954a2d94de35>\"\u001b[1;36m, line \u001b[1;32m1\u001b[0m\n\u001b[1;33m    s3=\"Guido Van Rossum\u001b[0m\n\u001b[1;37m                                   ^\u001b[0m\n\u001b[1;31mSyntaxError\u001b[0m\u001b[1;31m:\u001b[0m EOL while scanning string literal\n"
     ]
    }
   ],
   "source": [
    "\n",
    "s3=\"Guido Van Rossum           \n",
    " # SyntaxError: EOL while scanning string literal\n",
    "s3='Guido Van Rossum         \n",
    "\t\t\t\t\t\t       #SyntaxError: EOL while scanning string literal\n",
    "\n"
   ]
  },
  {
   "cell_type": "markdown",
   "metadata": {},
   "source": [
    "- With Single Quotes or double Quotes, we can't organize Multi Line String data\t\t\n"
   ]
  },
  {
   "cell_type": "markdown",
   "metadata": {},
   "source": [
    "\n",
    "#### b) Multi Line String Data:\n",
    "\n",
    "- To organize (or) store  Multi Line String Data, we use either Tripple double quotes or tripple single Quotes.\n",
    "\n",
    "Syntax-1:     \" \" \"   String Line-1\n",
    "\t\t\t      String Line-2\n",
    "\t\t\t       ------------------\n",
    "\t\t\t      String Line-n \" \" \"\n",
    "\n",
    "Syntax-2:     ' ' '   String Line-1\n",
    "\t\t\t    String Line-2\n",
    "\t\t\t       ------------------\n",
    "\t\t\t    String Line-n ' ' '\n",
    "\n",
    "- With tripple double Quotes and Tripple Single Quotes, we can organize both Single and multi line String data.\n"
   ]
  },
  {
   "cell_type": "code",
   "execution_count": 15,
   "metadata": {},
   "outputs": [
    {
     "name": "stdout",
     "output_type": "stream",
     "text": [
      "Guido van Rossum\n",
      "H.NO:2-3-4 River Side\n",
      "CWI, Nether Lands\n",
      "456789 \n",
      "<class 'str'>\n"
     ]
    }
   ],
   "source": [
    "\n",
    "s3=\"\"\"Guido van Rossum\n",
    "... H.NO:2-3-4 River Side\n",
    "... CWI, Nether Lands\n",
    "... 456789 \"\"\"\n",
    "\n",
    "print(s3)                                                                                                                    \n",
    "print(type(s3))          #----------<class 'str'>\n"
   ]
  },
  {
   "cell_type": "code",
   "execution_count": 16,
   "metadata": {},
   "outputs": [
    {
     "name": "stdout",
     "output_type": "stream",
     "text": [
      "James Gosling\n",
      "        FNO:3-4-5, Hill Side\n",
      "        Sun Micro System\n",
      "        USA-23456712 \n",
      "<class 'str'>\n"
     ]
    }
   ],
   "source": [
    "\n",
    "s4= '''James Gosling\n",
    "        FNO:3-4-5, Hill Side\n",
    "        Sun Micro System\n",
    "        USA-23456712 '''\n",
    "\n",
    "print(s4)\n",
    "print(type(s4))              #------------<class 'str'>\n",
    "\n"
   ]
  },
  {
   "cell_type": "code",
   "execution_count": 13,
   "metadata": {},
   "outputs": [
    {
     "name": "stdout",
     "output_type": "stream",
     "text": [
      "python is an oop lang <class 'str'>\n",
      "python is an oop lang <class 'str'>\n",
      "python is an \"oop\" lang  <class 'str'>\n"
     ]
    }
   ],
   "source": [
    "s5=\"\"\"python is an oop lang\"\"\"\n",
    "print(s5, type(s5))             #-------------python is an oop lang <class 'str'>\n",
    "\n",
    "s6='''python is an oop lang'''\n",
    "print(s6, type(s6))              #-------python is an oop lang <class 'str'>\n",
    "\n",
    "s7=\"\"\"python is an \"oop\" lang \"\"\"\n",
    "print(s7, type(s7))                  #-------- python is an \"oop\" lang  <class 'str'>"
   ]
  },
  {
   "cell_type": "markdown",
   "metadata": {},
   "source": [
    "### Operations on str  data\n",
    "\n",
    "- On str type data, we can perform Two types of operations. They are\n",
    "\t\t1) Indexing \n",
    "\t\t2) Slicing\n",
    "----------------------------------------------------------------------------------------------\n"
   ]
  },
  {
   "cell_type": "markdown",
   "metadata": {},
   "source": [
    " #### 1) Indexing\n",
    "\n",
    "\n",
    "- The Process of obtaining one Character at a time from Given Str object by passing valid      index is called Indexing.\n",
    "\n",
    "- Syntax:-   strobj [ Index ]\n",
    "\t\t=>here Index can be either Valid +ve Index or -ve index\n",
    "\t\t=>If the Index is invalid then we get IndexError\n"
   ]
  },
  {
   "attachments": {
    "Indexing%20diagram.png": {
     "image/png": "[encoded data removed]"
    }
   },
   "cell_type": "markdown",
   "metadata": {},
   "source": [
    "![Indexing%20diagram.png](attachment:Indexing%20diagram.png)"
   ]
  },
  {
   "cell_type": "code",
   "execution_count": 20,
   "metadata": {},
   "outputs": [
    {
     "name": "stdout",
     "output_type": "stream",
     "text": [
      "PYTHON <class 'str'>\n",
      "P\n",
      "P\n",
      "O\n",
      "O\n",
      "H\n"
     ]
    }
   ],
   "source": [
    "\n",
    "s=\"PYTHON\"\n",
    "print(s, type(s))            #----------PYTHON <class 'str'>\n",
    "print(s[0])               #-----------P\n",
    "print(s[-6])         #----------P\n",
    "print(s[4])              #-------------O\n",
    "print(s[-2])            #----------O\n",
    "print(s[-3])              #----------H\n"
   ]
  },
  {
   "cell_type": "code",
   "execution_count": 21,
   "metadata": {},
   "outputs": [
    {
     "ename": "IndexError",
     "evalue": "string index out of range",
     "output_type": "error",
     "traceback": [
      "\u001b[1;31m---------------------------------------------------------------------------\u001b[0m",
      "\u001b[1;31mIndexError\u001b[0m                                Traceback (most recent call last)",
      "\u001b[1;32m<ipython-input-21-97006227e302>\u001b[0m in \u001b[0;36m<module>\u001b[1;34m\u001b[0m\n\u001b[1;32m----> 1\u001b[1;33m \u001b[0mprint\u001b[0m\u001b[1;33m(\u001b[0m\u001b[0ms\u001b[0m\u001b[1;33m[\u001b[0m\u001b[1;36m10\u001b[0m\u001b[1;33m]\u001b[0m\u001b[1;33m)\u001b[0m            \u001b[1;31m#-----------IndexError: string index out of range\u001b[0m\u001b[1;33m\u001b[0m\u001b[1;33m\u001b[0m\u001b[0m\n\u001b[0m\u001b[0;32m      2\u001b[0m \u001b[0mprint\u001b[0m\u001b[1;33m(\u001b[0m\u001b[0ms\u001b[0m\u001b[1;33m[\u001b[0m\u001b[1;33m-\u001b[0m\u001b[1;36m10\u001b[0m\u001b[1;33m]\u001b[0m\u001b[1;33m)\u001b[0m        \u001b[1;31m#----------IndexError: string index out of range\u001b[0m\u001b[1;33m\u001b[0m\u001b[1;33m\u001b[0m\u001b[0m\n",
      "\u001b[1;31mIndexError\u001b[0m: string index out of range"
     ]
    }
   ],
   "source": [
    "print(s[10])            #-----------IndexError: string index out of range\n",
    "print(s[-10])        #----------IndexError: string index out of range\n"
   ]
  },
  {
   "cell_type": "markdown",
   "metadata": {},
   "source": [
    "####  2) Slicing:\n",
    "\n",
    "\n",
    "- The process of obtaing range of characters (or) sub string from the given str object is called Slicing.\n",
    "- With slicing operation, we can get range of characters (or) sub string from the given str object in both Forward direction and Reverse (or) Backward direction .\n",
    "\n",
    "\t\t       Syntax1:         strobj[begin:end]\n",
    "\n",
    "- This Syntax obtains range of characters (or) sub string from given str obj from begin index to end index-1 values provided begin index < end index otherwise no result\n",
    "\n",
    "               Syntax2:         strobj[begin :  ]\n",
    "             \n",
    "               Syntax3:         strobj[  : end]\n",
    "\n",
    "- In syntax(2), if don't specify the end index then PVM takes end index as len(strobj)-1\n",
    "- In syntax(3) ,if don't specify the begin index then PVM takes Intial Index as Begin Index(0--in the case +ve ,   Left side last -ve  val in negative index \n",
    "\n",
    "\t\t       Syntax4:         strobj[begin:end:step]\n",
    "\n",
    "Rules:\n",
    "\n",
    "1) Here for begin, end, step, we can Both Possive Index and Negative Index.\n",
    "\n",
    "2) If \"STEP value\" is Posstive then We have to consider the elements from Begin Index to End Index-1 in Forward Direction (Left to Right) Provided Begin Index < End Index.\n",
    "\n",
    "3) If \"STEP value\" is Negative then We have to consider the elements from Begin Index to End Index+1 in Backward direction (Right to Left)Provided Begin Index > End Index.\n",
    "\n",
    "4) In Forward Direction, If the end Value is \"0\" then result is always empty.\n",
    "\n",
    "5) In Backward Direction, If the end Value is \"-1\" then result is always empty\n",
    "\n",
    "\n"
   ]
  },
  {
   "cell_type": "code",
   "execution_count": 23,
   "metadata": {},
   "outputs": [
    {
     "name": "stdout",
     "output_type": "stream",
     "text": [
      "YTHO\n",
      "THO\n",
      "PYTH\n",
      "HON\n",
      "YTHO\n",
      "\n",
      "\n",
      "PYTH\n",
      "YTHO\n",
      "PYT\n",
      "\n"
     ]
    }
   ],
   "source": [
    "# SYNTAX - 1 EXAMPLE\n",
    "\n",
    "s=\"PYTHON\"\n",
    "print(s[1:5])       #---------------YTHO\n",
    "print(s[2:5])         #------------THO\n",
    "print(s[0:4])     #----------------PYTH\n",
    "print(s[3:6])        #-----------------HON\n",
    "print(s[1:5])          #-------------YTHO\n",
    "print(s[4:1])          #-------------No output\n",
    "print(s[5:3])        #---------no result\n",
    "print(s[-6:-2])             #----------PYTH\n",
    "print(s[-5:-1])           #------------YTHO\n",
    "print(s[-6:-3])             #----------PYT\n",
    "print(s[-6:0])                #----------no result\n"
   ]
  },
  {
   "cell_type": "code",
   "execution_count": 24,
   "metadata": {},
   "outputs": [
    {
     "name": "stdout",
     "output_type": "stream",
     "text": [
      "THON\n",
      "YTHON\n",
      "ON\n",
      "THON\n",
      "YTHON\n",
      "ON\n",
      "PYTH\n",
      "PYTHO\n",
      "PYT\n",
      "PYT\n",
      "PYTHO\n",
      "PYTHON\n",
      "PYTHON\n",
      "\n",
      "PYTHON\n"
     ]
    }
   ],
   "source": [
    "# SYNTAX - 2 EXAMPLE\n",
    "\n",
    "s=\"PYTHON\"\n",
    "print(s[2:])       #-------------THON\n",
    "print(s[1:])           #-------------YTHON\n",
    "print(s[4:])    #------------ON\n",
    "print(s[-4:])          #------------THON\n",
    "print(s[-5:])       #----------YTHON\n",
    "print(s[-2:])             #-----------ON\n",
    "print(s[:4])             #-----------PYTH\n",
    "print(s[:5])             #----------PYTHO\n",
    "print(s[:3])                     #-----------PYT\n",
    "print(s[:-3])                        #---------PYT\n",
    "print(s[:-1])              #----------PYTHO\n",
    "\n",
    "print(s[:])               #----------------PYTHON\n",
    "print(s)                            #----------------PYTHON\n",
    "print(s[-6:0])            #------- No Result (Don't assume -6 to 0-1==>-6 to -1\n",
    "\n",
    "print(s[-6:])             #-----------PYTHON"
   ]
  },
  {
   "cell_type": "code",
   "execution_count": 27,
   "metadata": {},
   "outputs": [
    {
     "name": "stdout",
     "output_type": "stream",
     "text": [
      "PYTHON\n",
      "PYTHON\n",
      "PYTHON\n",
      "PYTHON\n",
      "PYTHON\n",
      "PYTHO\n"
     ]
    }
   ],
   "source": [
    "# SYNTAX - 3 EXAMPLE\n",
    "\n",
    "s=\"PYTHON\"\n",
    "print(s)       #---------------PYTHON\n",
    "print(s[:])                #-------------PYTHON\n",
    "print(s[:6])           #----------PYTHON\n",
    "print(s[-6:])            #----------PYTHON\n",
    "print(s[0:])      #----------PYTHON\n",
    "print(s[:-1])#---------PYTHO\n"
   ]
  },
  {
   "cell_type": "code",
   "execution_count": 26,
   "metadata": {},
   "outputs": [
    {
     "name": "stdout",
     "output_type": "stream",
     "text": [
      "PYTHON\n",
      "YTHO\n",
      "PYTH\n",
      "\n",
      "NOHT\n",
      "NO\n",
      "PTO\n",
      "PH\n",
      "YHN\n",
      "PT\n",
      "PH\n",
      "NT\n",
      "NOHTY\n",
      "\n",
      "YTHON\n",
      "PYTHON\n",
      "NOHTYP\n",
      "MADAM\n",
      "MADAM\n"
     ]
    },
    {
     "data": {
      "text/plain": [
       "True"
      ]
     },
     "execution_count": 26,
     "metadata": {},
     "output_type": "execute_result"
    }
   ],
   "source": [
    "# SYNTAX - 4 EXAMPLE\n",
    "\n",
    "s=\"PYTHON\"\n",
    "print(s)              #------------------PYTHON\n",
    "print(s[1:5:1])       #------------YTHO\n",
    "print(s[0:4:1])           #-------------------PYTH\n",
    "print(s[1:5:-1])        #-----------No result\n",
    "print(s[5:1:-1])          #---------NOHT\n",
    "print(s[5:3:-1])           #-----------NO\n",
    "print(s[0:6:2])           #--------------PTO\n",
    "print(s[0:6:3])                  #-----------PH\n",
    "print(s[1:6:2])             #----------YHN\n",
    "print(s[-6:-2:2])              #-----------PT\n",
    "print(s[-6:-1:3])                     #----------PH\n",
    "print(s[-1:-6:-3])            #--------------NT\n",
    "print(s[-1:-6:-1])                #--------------NOHTY\n",
    "print(s[-1:-1:-1])                       #-------------no result\n",
    "print(s[1: :1])                 #----------------YTHON\n",
    "print(s[::1])                         #-----------------PYTHON\n",
    "print(s[::-1])                         #--------------NOHTYP\n",
    "t=\"MADAM\"\n",
    "print(t)                         #------------MADAM\n",
    "print(t[::-1])          #----------MADAM\n",
    "t==t[::-1]                    #--------------True\n",
    "s==s[::-1]                        #--------------False\n",
    "\"LIRIL\"==\"LIRIL\"[::-1]            #-------------True"
   ]
  },
  {
   "cell_type": "markdown",
   "metadata": {},
   "source": [
    "###  TYPE CASTING MECHANISM OR TECHNIQUES IN PYTHON\n",
    "\n",
    "- The process of converting one type of value into another type of value is called \"Type Casting\"\n",
    "- We have 5 Type Casting Mechanisms(or ) techniques  in Python. They are\n",
    "\n",
    "                    a) int()\n",
    "                    b) float()\n",
    "                    c) bool()\n",
    "                    d) complex()\n",
    "                    e) str()"
   ]
  },
  {
   "cell_type": "markdown",
   "metadata": {},
   "source": [
    "+++++++++++++++++++++++++++++++++++++++++++++++++++++++++++++++++++++++++++++++++++++++++++++++++++++++++++++++++++++++++\n",
    "\n",
    "\n",
    "#### a) int()\n",
    "\n",
    "\n",
    "+++++++++++++++++++++++++++++++++++++++++++++++++++++++++++++++++++++++++++++++++++++++++++++++++++++++++++++++++++++++++\n",
    "\n",
    "\n",
    "- int() is used for convetring Possible Type of Values into int type value.\n",
    "\n",
    "                Syntax:-\n",
    "                \n",
    "                              varname=int( float / bool / complex / str )\n"
   ]
  },
  {
   "cell_type": "markdown",
   "metadata": {},
   "source": [
    "=========================================================================================\n",
    "\n",
    "         Examples:         (float values --> int --> Possible)\n",
    "\n",
    "=========================================================================================\n"
   ]
  },
  {
   "cell_type": "code",
   "execution_count": 29,
   "metadata": {},
   "outputs": [
    {
     "name": "stdout",
     "output_type": "stream",
     "text": [
      "10.23 <class 'float'>\n",
      "10 <class 'int'>\n",
      "0.345 <class 'float'>\n",
      "0 <class 'int'>\n"
     ]
    }
   ],
   "source": [
    "\n",
    "a=10.23\n",
    "print(a, type(a))           #---------10.23    <class,'float'>\n",
    "b=int(a)\n",
    "print(b, type(b))           #-------- 10     <class, 'int'>\n",
    "a=0.345\n",
    "print(a, type(a))               #------------0.345 <class 'float'>\n",
    "b=int(a)\n",
    "print(b, type(b))              #--------0 <class 'int'>\n",
    "\n"
   ]
  },
  {
   "cell_type": "markdown",
   "metadata": {},
   "source": [
    "========================================================================================\n",
    "\n",
    "                Examples: (bool values-->int-->Possible )\n",
    "\n",
    "========================================================================================"
   ]
  },
  {
   "cell_type": "code",
   "execution_count": 30,
   "metadata": {},
   "outputs": [
    {
     "name": "stdout",
     "output_type": "stream",
     "text": [
      "True <class 'bool'>\n",
      "1 <class 'int'>\n",
      "False <class 'bool'>\n",
      "0 <class 'int'>\n"
     ]
    }
   ],
   "source": [
    "a=True\n",
    "print(a, type(a))            #-----------------True <class 'bool'>\n",
    "b=int(a)\n",
    "print(b, type(b))              #---------1 <class 'int'>\n",
    "a=False\n",
    "print(a, type(a))             #-----------False <class 'bool'>\n",
    "b=int(a)\n",
    "print(b, type(b))             #----------0 <class 'int'>\n"
   ]
  },
  {
   "cell_type": "markdown",
   "metadata": {},
   "source": [
    "=====================================================================================\n",
    "\n",
    "           Examples: ( complex values-->int-->Not Possible )\n",
    "    \n",
    "=====================================================================================\n"
   ]
  },
  {
   "cell_type": "code",
   "execution_count": 31,
   "metadata": {},
   "outputs": [
    {
     "name": "stdout",
     "output_type": "stream",
     "text": [
      "(2+3j) <class 'complex'>\n"
     ]
    },
    {
     "ename": "TypeError",
     "evalue": "can't convert complex to int",
     "output_type": "error",
     "traceback": [
      "\u001b[1;31m---------------------------------------------------------------------------\u001b[0m",
      "\u001b[1;31mTypeError\u001b[0m                                 Traceback (most recent call last)",
      "\u001b[1;32m<ipython-input-31-3f493a9e5eac>\u001b[0m in \u001b[0;36m<module>\u001b[1;34m\u001b[0m\n\u001b[0;32m      1\u001b[0m \u001b[0ma\u001b[0m\u001b[1;33m=\u001b[0m\u001b[1;36m2\u001b[0m\u001b[1;33m+\u001b[0m\u001b[1;36m3j\u001b[0m\u001b[1;33m\u001b[0m\u001b[1;33m\u001b[0m\u001b[0m\n\u001b[0;32m      2\u001b[0m \u001b[0mprint\u001b[0m\u001b[1;33m(\u001b[0m\u001b[0ma\u001b[0m\u001b[1;33m,\u001b[0m \u001b[0mtype\u001b[0m\u001b[1;33m(\u001b[0m\u001b[0ma\u001b[0m\u001b[1;33m)\u001b[0m\u001b[1;33m)\u001b[0m          \u001b[1;31m#-----------(2+3j) <class 'complex'>\u001b[0m\u001b[1;33m\u001b[0m\u001b[1;33m\u001b[0m\u001b[0m\n\u001b[1;32m----> 3\u001b[1;33m \u001b[0mb\u001b[0m\u001b[1;33m=\u001b[0m\u001b[0mint\u001b[0m\u001b[1;33m(\u001b[0m\u001b[0ma\u001b[0m\u001b[1;33m)\u001b[0m          \u001b[1;31m#-----------TypeError: can't convert complex to int\u001b[0m\u001b[1;33m\u001b[0m\u001b[1;33m\u001b[0m\u001b[0m\n\u001b[0m\u001b[0;32m      4\u001b[0m \u001b[0mb\u001b[0m\u001b[1;33m=\u001b[0m\u001b[0mint\u001b[0m\u001b[1;33m(\u001b[0m\u001b[0ma\u001b[0m\u001b[1;33m.\u001b[0m\u001b[0mreal\u001b[0m\u001b[1;33m)\u001b[0m\u001b[1;33m\u001b[0m\u001b[1;33m\u001b[0m\u001b[0m\n\u001b[0;32m      5\u001b[0m \u001b[0mprint\u001b[0m\u001b[1;33m(\u001b[0m\u001b[0mb\u001b[0m\u001b[1;33m,\u001b[0m \u001b[0mtype\u001b[0m\u001b[1;33m(\u001b[0m\u001b[0mb\u001b[0m\u001b[1;33m)\u001b[0m\u001b[1;33m)\u001b[0m        \u001b[1;31m#-------2 <class 'int'>\u001b[0m\u001b[1;33m\u001b[0m\u001b[1;33m\u001b[0m\u001b[0m\n",
      "\u001b[1;31mTypeError\u001b[0m: can't convert complex to int"
     ]
    }
   ],
   "source": [
    "a=2+3j\n",
    "print(a, type(a))          #-----------(2+3j) <class 'complex'>\n",
    "b=int(a)          #-----------TypeError: can't convert complex to int\n",
    "b=int(a.real)\n",
    "print(b, type(b))        #-------2 <class 'int'>\n",
    "b=int(a.imag)\n",
    "print(b, type(b))         #------3 <class 'int'>   "
   ]
  },
  {
   "cell_type": "markdown",
   "metadata": {},
   "source": [
    "=========================================================================\n",
    "\n",
    "      Examples: ( Str int value can be converted into int value)\n",
    "    \n",
    "=========================================================================\n"
   ]
  },
  {
   "cell_type": "code",
   "execution_count": 32,
   "metadata": {},
   "outputs": [
    {
     "name": "stdout",
     "output_type": "stream",
     "text": [
      "12 <class 'str'>\n"
     ]
    },
    {
     "ename": "TypeError",
     "evalue": "can only concatenate str (not \"int\") to str",
     "output_type": "error",
     "traceback": [
      "\u001b[1;31m---------------------------------------------------------------------------\u001b[0m",
      "\u001b[1;31mTypeError\u001b[0m                                 Traceback (most recent call last)",
      "\u001b[1;32m<ipython-input-32-84eb11ec7901>\u001b[0m in \u001b[0;36m<module>\u001b[1;34m\u001b[0m\n\u001b[0;32m      1\u001b[0m \u001b[0ma\u001b[0m\u001b[1;33m=\u001b[0m\u001b[1;34m\"12\"\u001b[0m\u001b[1;33m\u001b[0m\u001b[1;33m\u001b[0m\u001b[0m\n\u001b[0;32m      2\u001b[0m \u001b[0mprint\u001b[0m\u001b[1;33m(\u001b[0m\u001b[0ma\u001b[0m\u001b[1;33m,\u001b[0m \u001b[0mtype\u001b[0m\u001b[1;33m(\u001b[0m\u001b[0ma\u001b[0m\u001b[1;33m)\u001b[0m\u001b[1;33m)\u001b[0m      \u001b[1;31m#-----------12 <class 'str'>\u001b[0m\u001b[1;33m\u001b[0m\u001b[1;33m\u001b[0m\u001b[0m\n\u001b[1;32m----> 3\u001b[1;33m \u001b[0ma\u001b[0m\u001b[1;33m=\u001b[0m\u001b[0ma\u001b[0m\u001b[1;33m+\u001b[0m\u001b[1;36m3\u001b[0m           \u001b[1;31m#----------TypeError: can only concatenate str (not \"int\") to str\u001b[0m\u001b[1;33m\u001b[0m\u001b[1;33m\u001b[0m\u001b[0m\n\u001b[0m\u001b[0;32m      4\u001b[0m \u001b[0mb\u001b[0m\u001b[1;33m=\u001b[0m\u001b[0mint\u001b[0m\u001b[1;33m(\u001b[0m\u001b[0ma\u001b[0m\u001b[1;33m)\u001b[0m\u001b[1;33m\u001b[0m\u001b[1;33m\u001b[0m\u001b[0m\n\u001b[0;32m      5\u001b[0m \u001b[0mprint\u001b[0m\u001b[1;33m(\u001b[0m\u001b[0mb\u001b[0m\u001b[1;33m,\u001b[0m \u001b[0mtype\u001b[0m\u001b[1;33m(\u001b[0m\u001b[0mb\u001b[0m\u001b[1;33m)\u001b[0m\u001b[1;33m)\u001b[0m         \u001b[1;31m#----   12   <class,'int'>\u001b[0m\u001b[1;33m\u001b[0m\u001b[1;33m\u001b[0m\u001b[0m\n",
      "\u001b[1;31mTypeError\u001b[0m: can only concatenate str (not \"int\") to str"
     ]
    }
   ],
   "source": [
    "a=\"12\"  \n",
    "print(a, type(a))      #-----------12 <class 'str'>\n",
    "a=a+3           #----------TypeError: can only concatenate str (not \"int\") to str\n",
    "b=int(a)\n",
    "print(b, type(b))         #----   12   <class,'int'>\n"
   ]
  },
  {
   "cell_type": "markdown",
   "metadata": {},
   "source": [
    "=========================================================================\n",
    "\n",
    "      Examples: ( Str float value can't be converted into int type )\n",
    "\n",
    "=========================================================================\n"
   ]
  },
  {
   "cell_type": "code",
   "execution_count": 33,
   "metadata": {},
   "outputs": [
    {
     "name": "stdout",
     "output_type": "stream",
     "text": [
      "12.34 <class 'str'>\n"
     ]
    },
    {
     "ename": "ValueError",
     "evalue": "invalid literal for int() with base 10: '12.34'",
     "output_type": "error",
     "traceback": [
      "\u001b[1;31m---------------------------------------------------------------------------\u001b[0m",
      "\u001b[1;31mValueError\u001b[0m                                Traceback (most recent call last)",
      "\u001b[1;32m<ipython-input-33-2f3b20ae4047>\u001b[0m in \u001b[0;36m<module>\u001b[1;34m\u001b[0m\n\u001b[0;32m      1\u001b[0m \u001b[0ma\u001b[0m\u001b[1;33m=\u001b[0m\u001b[1;34m\"12.34\"\u001b[0m\u001b[1;33m\u001b[0m\u001b[1;33m\u001b[0m\u001b[0m\n\u001b[0;32m      2\u001b[0m \u001b[0mprint\u001b[0m\u001b[1;33m(\u001b[0m\u001b[0ma\u001b[0m\u001b[1;33m,\u001b[0m \u001b[0mtype\u001b[0m\u001b[1;33m(\u001b[0m\u001b[0ma\u001b[0m\u001b[1;33m)\u001b[0m\u001b[1;33m)\u001b[0m \u001b[1;31m#-------12.34 <class 'str'>\u001b[0m\u001b[1;33m\u001b[0m\u001b[1;33m\u001b[0m\u001b[0m\n\u001b[1;32m----> 3\u001b[1;33m \u001b[0mb\u001b[0m\u001b[1;33m=\u001b[0m\u001b[0mint\u001b[0m\u001b[1;33m(\u001b[0m\u001b[0ma\u001b[0m\u001b[1;33m)\u001b[0m      \u001b[1;31m#---------ValueError: invalid literal for int() with base 10: '12.34'\u001b[0m\u001b[1;33m\u001b[0m\u001b[1;33m\u001b[0m\u001b[0m\n\u001b[0m",
      "\u001b[1;31mValueError\u001b[0m: invalid literal for int() with base 10: '12.34'"
     ]
    }
   ],
   "source": [
    "a=\"12.34\"\n",
    "print(a, type(a)) #-------12.34 <class 'str'>\n",
    "b=int(a)      #---------ValueError: invalid literal for int() with base 10: '12.34'\n"
   ]
  },
  {
   "cell_type": "markdown",
   "metadata": {},
   "source": [
    "=========================================================================\n",
    "\n",
    "      Examples: ( Str bool value can't be converted into int type )\n",
    "\n",
    "=========================================================================\n"
   ]
  },
  {
   "cell_type": "code",
   "execution_count": 34,
   "metadata": {},
   "outputs": [
    {
     "name": "stdout",
     "output_type": "stream",
     "text": [
      "True <class 'str'>\n"
     ]
    },
    {
     "ename": "ValueError",
     "evalue": "invalid literal for int() with base 10: 'True'",
     "output_type": "error",
     "traceback": [
      "\u001b[1;31m---------------------------------------------------------------------------\u001b[0m",
      "\u001b[1;31mValueError\u001b[0m                                Traceback (most recent call last)",
      "\u001b[1;32m<ipython-input-34-75b3fc2e2ff6>\u001b[0m in \u001b[0;36m<module>\u001b[1;34m\u001b[0m\n\u001b[0;32m      1\u001b[0m \u001b[0ma\u001b[0m\u001b[1;33m=\u001b[0m\u001b[1;34m\"True\"\u001b[0m\u001b[1;33m\u001b[0m\u001b[1;33m\u001b[0m\u001b[0m\n\u001b[0;32m      2\u001b[0m \u001b[0mprint\u001b[0m\u001b[1;33m(\u001b[0m\u001b[0ma\u001b[0m\u001b[1;33m,\u001b[0m \u001b[0mtype\u001b[0m\u001b[1;33m(\u001b[0m\u001b[0ma\u001b[0m\u001b[1;33m)\u001b[0m\u001b[1;33m)\u001b[0m         \u001b[1;31m#-------True <class 'str'>\u001b[0m\u001b[1;33m\u001b[0m\u001b[1;33m\u001b[0m\u001b[0m\n\u001b[1;32m----> 3\u001b[1;33m \u001b[0mb\u001b[0m\u001b[1;33m=\u001b[0m\u001b[0mint\u001b[0m\u001b[1;33m(\u001b[0m\u001b[0ma\u001b[0m\u001b[1;33m)\u001b[0m   \u001b[1;31m#-------ValueError: invalid literal for int() with base 10: 'True'\u001b[0m\u001b[1;33m\u001b[0m\u001b[1;33m\u001b[0m\u001b[0m\n\u001b[0m\u001b[0;32m      4\u001b[0m \u001b[0ma\u001b[0m\u001b[1;33m=\u001b[0m\u001b[1;34m\"False\"\u001b[0m\u001b[1;33m\u001b[0m\u001b[1;33m\u001b[0m\u001b[0m\n\u001b[0;32m      5\u001b[0m \u001b[0mprint\u001b[0m\u001b[1;33m(\u001b[0m\u001b[0ma\u001b[0m\u001b[1;33m,\u001b[0m \u001b[0mtype\u001b[0m\u001b[1;33m(\u001b[0m\u001b[0ma\u001b[0m\u001b[1;33m)\u001b[0m\u001b[1;33m)\u001b[0m            \u001b[1;31m#--------False <class 'str'>\u001b[0m\u001b[1;33m\u001b[0m\u001b[1;33m\u001b[0m\u001b[0m\n",
      "\u001b[1;31mValueError\u001b[0m: invalid literal for int() with base 10: 'True'"
     ]
    }
   ],
   "source": [
    "a=\"True\"\n",
    "print(a, type(a))         #-------True <class 'str'>\n",
    "b=int(a)   #-------ValueError: invalid literal for int() with base 10: 'True'\n",
    "a=\"False\"\n",
    "print(a, type(a))            #--------False <class 'str'>\n",
    "b=int(a)                     #-----ValueError: invalid literal for int() with base 10: 'False'\n"
   ]
  },
  {
   "cell_type": "markdown",
   "metadata": {},
   "source": [
    "=========================================================================\n",
    "\n",
    "     Examples: ( Str complex value can't be converted into int type )\n",
    "\n",
    "=========================================================================\n",
    "           "
   ]
  },
  {
   "cell_type": "code",
   "execution_count": 35,
   "metadata": {},
   "outputs": [
    {
     "name": "stdout",
     "output_type": "stream",
     "text": [
      "2+3j <class 'str'>\n"
     ]
    },
    {
     "ename": "ValueError",
     "evalue": "invalid literal for int() with base 10: '2+3j'",
     "output_type": "error",
     "traceback": [
      "\u001b[1;31m---------------------------------------------------------------------------\u001b[0m",
      "\u001b[1;31mValueError\u001b[0m                                Traceback (most recent call last)",
      "\u001b[1;32m<ipython-input-35-edf8af578de8>\u001b[0m in \u001b[0;36m<module>\u001b[1;34m\u001b[0m\n\u001b[0;32m      1\u001b[0m \u001b[0ma\u001b[0m\u001b[1;33m=\u001b[0m\u001b[1;34m\"2+3j\"\u001b[0m\u001b[1;33m\u001b[0m\u001b[1;33m\u001b[0m\u001b[0m\n\u001b[0;32m      2\u001b[0m \u001b[0mprint\u001b[0m\u001b[1;33m(\u001b[0m\u001b[0ma\u001b[0m\u001b[1;33m,\u001b[0m \u001b[0mtype\u001b[0m\u001b[1;33m(\u001b[0m\u001b[0ma\u001b[0m\u001b[1;33m)\u001b[0m\u001b[1;33m)\u001b[0m            \u001b[1;31m#----------2+3j <class 'str'>\u001b[0m\u001b[1;33m\u001b[0m\u001b[1;33m\u001b[0m\u001b[0m\n\u001b[1;32m----> 3\u001b[1;33m \u001b[0mb\u001b[0m\u001b[1;33m=\u001b[0m\u001b[0mint\u001b[0m\u001b[1;33m(\u001b[0m\u001b[0ma\u001b[0m\u001b[1;33m)\u001b[0m             \u001b[1;31m#---------ValueError: invalid literal for int() with base 10: '2+3j'\u001b[0m\u001b[1;33m\u001b[0m\u001b[1;33m\u001b[0m\u001b[0m\n\u001b[0m",
      "\u001b[1;31mValueError\u001b[0m: invalid literal for int() with base 10: '2+3j'"
     ]
    }
   ],
   "source": [
    "a=\"2+3j\"\n",
    "print(a, type(a))            #----------2+3j <class 'str'>\n",
    "b=int(a)             #---------ValueError: invalid literal for int() with base 10: '2+3j'\n"
   ]
  },
  {
   "cell_type": "markdown",
   "metadata": {},
   "source": [
    "=========================================================================\n",
    "\n",
    "         Examples: ( Pure Str  value can't be converted into int type )\n",
    "\n",
    "=========================================================================\n"
   ]
  },
  {
   "cell_type": "code",
   "execution_count": 36,
   "metadata": {},
   "outputs": [
    {
     "name": "stdout",
     "output_type": "stream",
     "text": [
      "PYTHON <class 'str'>\n"
     ]
    },
    {
     "ename": "ValueError",
     "evalue": "invalid literal for int() with base 10: 'PYTHON'",
     "output_type": "error",
     "traceback": [
      "\u001b[1;31m---------------------------------------------------------------------------\u001b[0m",
      "\u001b[1;31mValueError\u001b[0m                                Traceback (most recent call last)",
      "\u001b[1;32m<ipython-input-36-6eb9882eddce>\u001b[0m in \u001b[0;36m<module>\u001b[1;34m\u001b[0m\n\u001b[0;32m      1\u001b[0m \u001b[0ma\u001b[0m\u001b[1;33m=\u001b[0m\u001b[1;34m\"PYTHON\"\u001b[0m\u001b[1;33m\u001b[0m\u001b[1;33m\u001b[0m\u001b[0m\n\u001b[0;32m      2\u001b[0m \u001b[0mprint\u001b[0m\u001b[1;33m(\u001b[0m\u001b[0ma\u001b[0m\u001b[1;33m,\u001b[0m \u001b[0mtype\u001b[0m\u001b[1;33m(\u001b[0m\u001b[0ma\u001b[0m\u001b[1;33m)\u001b[0m\u001b[1;33m)\u001b[0m              \u001b[1;31m#-----------PYTHON <class 'str'>\u001b[0m\u001b[1;33m\u001b[0m\u001b[1;33m\u001b[0m\u001b[0m\n\u001b[1;32m----> 3\u001b[1;33m \u001b[0mb\u001b[0m\u001b[1;33m=\u001b[0m\u001b[0mint\u001b[0m\u001b[1;33m(\u001b[0m\u001b[0ma\u001b[0m\u001b[1;33m)\u001b[0m               \u001b[1;31m#----------ValueError: invalid literal for int() with base 10: 'PYTHON'\u001b[0m\u001b[1;33m\u001b[0m\u001b[1;33m\u001b[0m\u001b[0m\n\u001b[0m\u001b[0;32m      4\u001b[0m \u001b[0ma\u001b[0m\u001b[1;33m=\u001b[0m\u001b[1;34m\"@abc\"\u001b[0m\u001b[1;33m\u001b[0m\u001b[1;33m\u001b[0m\u001b[0m\n\u001b[0;32m      5\u001b[0m \u001b[0mprint\u001b[0m\u001b[1;33m(\u001b[0m\u001b[0ma\u001b[0m\u001b[1;33m,\u001b[0m \u001b[0mtype\u001b[0m\u001b[1;33m(\u001b[0m\u001b[0ma\u001b[0m\u001b[1;33m)\u001b[0m\u001b[1;33m)\u001b[0m           \u001b[1;31m#-------@abc <class 'str'>\u001b[0m\u001b[1;33m\u001b[0m\u001b[1;33m\u001b[0m\u001b[0m\n",
      "\u001b[1;31mValueError\u001b[0m: invalid literal for int() with base 10: 'PYTHON'"
     ]
    }
   ],
   "source": [
    "\n",
    "a=\"PYTHON\"\n",
    "print(a, type(a))              #-----------PYTHON <class 'str'>\n",
    "b=int(a)               #----------ValueError: invalid literal for int() with base 10: 'PYTHON'\n",
    "a=\"@abc\"\n",
    "print(a, type(a))           #-------@abc <class 'str'>\n",
    "b=int(a)           #---------ValueError: invalid literal for int() with base 10: '@abc'\n",
    "a=\"34x\"\n",
    "print(a, type(a))              #--------34x <class 'str'>\n",
    "b=int(a)                 #---------ValueError: invalid literal for int() with base 10: '34x'"
   ]
  },
  {
   "cell_type": "markdown",
   "metadata": {},
   "source": [
    "+++++++++++++++++++++++++++++++++++++++++++++++++++++++++++++++++++++++++++++++++++++++++++++++++++++++++++++++++++++++++\n",
    "\n",
    "\n",
    "#### \tb) float()\n",
    "\n",
    "+++++++++++++++++++++++++++++++++++++++++++++++++++++++++++++++++++++++++++++++++++++++++++++++++++++++++++++++++++++++++\n",
    "\n",
    "- float() is used for convetring Possible Type of Values into float type value.\n",
    "\n",
    "            Syntax:-\n",
    "            \n",
    "                          varname=float ( int / bool / complex / str )\n",
    "\n"
   ]
  },
  {
   "cell_type": "markdown",
   "metadata": {},
   "source": [
    "===============================================================================\n",
    "\n",
    "                 Examples:(int Value--->float value-->Possible)\n",
    "\n",
    "===============================================================================\n"
   ]
  },
  {
   "cell_type": "code",
   "execution_count": 37,
   "metadata": {},
   "outputs": [
    {
     "name": "stdout",
     "output_type": "stream",
     "text": [
      "12 <class 'int'>\n",
      "12.0 <class 'float'>\n"
     ]
    }
   ],
   "source": [
    "a=12\n",
    "print(a, type(a))            #-------12 <class 'int'>\n",
    "b=float(a)\n",
    "print(b, type(b))                  #--------12.0 <class 'float'>\n"
   ]
  },
  {
   "cell_type": "markdown",
   "metadata": {},
   "source": [
    "===============================================================================\n",
    "\n",
    "               Examples:(bool Value--->float value-->Possible)\n",
    "\n",
    "==============================================================================="
   ]
  },
  {
   "cell_type": "code",
   "execution_count": 39,
   "metadata": {},
   "outputs": [
    {
     "name": "stdout",
     "output_type": "stream",
     "text": [
      "True <class 'bool'>\n",
      "1.0 <class 'float'>\n",
      "0.0 <class 'float'>\n"
     ]
    }
   ],
   "source": [
    "a=True\n",
    "print(a, type(a))              #---------True <class 'bool'>\n",
    "b=float(a)\n",
    "print(b, type(b))               #--------1.0 <class 'float'>\n",
    "a=False\n",
    "b=float(a)\n",
    "print(b, type(b))                       #-------0.0 <class 'float'>"
   ]
  },
  {
   "cell_type": "markdown",
   "metadata": {},
   "source": [
    "===============================================================================\n",
    " \n",
    "               Examples:(complex Value--->float value-->Not Possible)\n",
    "\n",
    "===============================================================================\n"
   ]
  },
  {
   "cell_type": "code",
   "execution_count": 40,
   "metadata": {},
   "outputs": [
    {
     "name": "stdout",
     "output_type": "stream",
     "text": [
      "(2+3j) <class 'complex'>\n"
     ]
    },
    {
     "ename": "TypeError",
     "evalue": "can't convert complex to float",
     "output_type": "error",
     "traceback": [
      "\u001b[1;31m---------------------------------------------------------------------------\u001b[0m",
      "\u001b[1;31mTypeError\u001b[0m                                 Traceback (most recent call last)",
      "\u001b[1;32m<ipython-input-40-f1f2c7629847>\u001b[0m in \u001b[0;36m<module>\u001b[1;34m\u001b[0m\n\u001b[0;32m      1\u001b[0m \u001b[0ma\u001b[0m\u001b[1;33m=\u001b[0m\u001b[1;36m2\u001b[0m\u001b[1;33m+\u001b[0m\u001b[1;36m3j\u001b[0m\u001b[1;33m\u001b[0m\u001b[1;33m\u001b[0m\u001b[0m\n\u001b[0;32m      2\u001b[0m \u001b[0mprint\u001b[0m\u001b[1;33m(\u001b[0m\u001b[0ma\u001b[0m\u001b[1;33m,\u001b[0m \u001b[0mtype\u001b[0m\u001b[1;33m(\u001b[0m\u001b[0ma\u001b[0m\u001b[1;33m)\u001b[0m\u001b[1;33m)\u001b[0m              \u001b[1;31m#--------(2+3j) <class 'complex'>\u001b[0m\u001b[1;33m\u001b[0m\u001b[1;33m\u001b[0m\u001b[0m\n\u001b[1;32m----> 3\u001b[1;33m \u001b[0mb\u001b[0m\u001b[1;33m=\u001b[0m\u001b[0mfloat\u001b[0m\u001b[1;33m(\u001b[0m\u001b[0ma\u001b[0m\u001b[1;33m)\u001b[0m                  \u001b[1;31m#------TypeError: can't convert complex to float\u001b[0m\u001b[1;33m\u001b[0m\u001b[1;33m\u001b[0m\u001b[0m\n\u001b[0m",
      "\u001b[1;31mTypeError\u001b[0m: can't convert complex to float"
     ]
    }
   ],
   "source": [
    "a=2+3j\n",
    "print(a, type(a))              #--------(2+3j) <class 'complex'>\n",
    "b=float(a)                  #------TypeError: can't convert complex to float\n"
   ]
  },
  {
   "cell_type": "markdown",
   "metadata": {},
   "source": [
    "===============================================================================\n",
    "\n",
    "          Examples: (str int Value--->float value-->Possible     )\n",
    "\n",
    "==============================================================================\n"
   ]
  },
  {
   "cell_type": "code",
   "execution_count": 41,
   "metadata": {},
   "outputs": [
    {
     "name": "stdout",
     "output_type": "stream",
     "text": [
      "12 <class 'str'>\n",
      "12.0 <class 'float'>\n"
     ]
    }
   ],
   "source": [
    "a=\"12\"\n",
    "print(a, type(a))          #-----------12 <class 'str'>\n",
    "b=float(a)\n",
    "print(b, type(b))                #--------12.0 <class 'float'>\n"
   ]
  },
  {
   "cell_type": "markdown",
   "metadata": {},
   "source": [
    "===============================================================================\n",
    "\n",
    "         Examples:(str float Value--->float value-->Possible     )\n",
    "\n",
    "==============================================================================="
   ]
  },
  {
   "cell_type": "code",
   "execution_count": 42,
   "metadata": {},
   "outputs": [
    {
     "name": "stdout",
     "output_type": "stream",
     "text": [
      "12.34 <class 'str'>\n",
      "12.34 <class 'float'>\n"
     ]
    }
   ],
   "source": [
    "a=\"12.34\"\n",
    "print(a, type(a))                   #-------12.34 <class 'str'>\n",
    "b=float(a)\n",
    "print(b, type(b))                     #-----------12.34 <class 'float'>\n"
   ]
  },
  {
   "cell_type": "markdown",
   "metadata": {},
   "source": [
    "===============================================================================\n",
    "\n",
    "         Examples:(str bool Value--->float value-->Not Possible    )\n",
    "\n",
    "==============================================================================="
   ]
  },
  {
   "cell_type": "code",
   "execution_count": 43,
   "metadata": {},
   "outputs": [
    {
     "name": "stdout",
     "output_type": "stream",
     "text": [
      "True <class 'str'>\n"
     ]
    },
    {
     "ename": "ValueError",
     "evalue": "could not convert string to float: 'True'",
     "output_type": "error",
     "traceback": [
      "\u001b[1;31m---------------------------------------------------------------------------\u001b[0m",
      "\u001b[1;31mValueError\u001b[0m                                Traceback (most recent call last)",
      "\u001b[1;32m<ipython-input-43-248399adf251>\u001b[0m in \u001b[0;36m<module>\u001b[1;34m\u001b[0m\n\u001b[0;32m      1\u001b[0m \u001b[0ma\u001b[0m\u001b[1;33m=\u001b[0m\u001b[1;34m\"True\"\u001b[0m\u001b[1;33m\u001b[0m\u001b[1;33m\u001b[0m\u001b[0m\n\u001b[0;32m      2\u001b[0m \u001b[0mprint\u001b[0m\u001b[1;33m(\u001b[0m\u001b[0ma\u001b[0m\u001b[1;33m,\u001b[0m \u001b[0mtype\u001b[0m\u001b[1;33m(\u001b[0m\u001b[0ma\u001b[0m\u001b[1;33m)\u001b[0m\u001b[1;33m)\u001b[0m               \u001b[1;31m#--------True <class 'str'>\u001b[0m\u001b[1;33m\u001b[0m\u001b[1;33m\u001b[0m\u001b[0m\n\u001b[1;32m----> 3\u001b[1;33m \u001b[0mb\u001b[0m\u001b[1;33m=\u001b[0m\u001b[0mfloat\u001b[0m\u001b[1;33m(\u001b[0m\u001b[0ma\u001b[0m\u001b[1;33m)\u001b[0m                \u001b[1;31m#--------ValueError: could not convert string to float: 'True'\u001b[0m\u001b[1;33m\u001b[0m\u001b[1;33m\u001b[0m\u001b[0m\n\u001b[0m",
      "\u001b[1;31mValueError\u001b[0m: could not convert string to float: 'True'"
     ]
    }
   ],
   "source": [
    "a=\"True\"\n",
    "print(a, type(a))               #--------True <class 'str'>\n",
    "b=float(a)                #--------ValueError: could not convert string to float: 'True'"
   ]
  },
  {
   "cell_type": "markdown",
   "metadata": {},
   "source": [
    "===============================================================================\n",
    "\n",
    "          Examples:(Pure str  Value--->float value-->Not Possible     )\n",
    "\n",
    "==============================================================================="
   ]
  },
  {
   "cell_type": "code",
   "execution_count": 44,
   "metadata": {},
   "outputs": [
    {
     "name": "stdout",
     "output_type": "stream",
     "text": [
      "Java <class 'str'>\n"
     ]
    },
    {
     "ename": "ValueError",
     "evalue": "could not convert string to float: 'Java'",
     "output_type": "error",
     "traceback": [
      "\u001b[1;31m---------------------------------------------------------------------------\u001b[0m",
      "\u001b[1;31mValueError\u001b[0m                                Traceback (most recent call last)",
      "\u001b[1;32m<ipython-input-44-6c79e9262869>\u001b[0m in \u001b[0;36m<module>\u001b[1;34m\u001b[0m\n\u001b[0;32m      1\u001b[0m \u001b[0ma\u001b[0m\u001b[1;33m=\u001b[0m\u001b[1;34m\"Java\"\u001b[0m\u001b[1;33m\u001b[0m\u001b[1;33m\u001b[0m\u001b[0m\n\u001b[0;32m      2\u001b[0m \u001b[0mprint\u001b[0m\u001b[1;33m(\u001b[0m\u001b[0ma\u001b[0m\u001b[1;33m,\u001b[0m \u001b[0mtype\u001b[0m\u001b[1;33m(\u001b[0m\u001b[0ma\u001b[0m\u001b[1;33m)\u001b[0m\u001b[1;33m)\u001b[0m            \u001b[1;31m#-------------Java <class 'str'>\u001b[0m\u001b[1;33m\u001b[0m\u001b[1;33m\u001b[0m\u001b[0m\n\u001b[1;32m----> 3\u001b[1;33m \u001b[0mb\u001b[0m\u001b[1;33m=\u001b[0m\u001b[0mfloat\u001b[0m\u001b[1;33m(\u001b[0m\u001b[0ma\u001b[0m\u001b[1;33m)\u001b[0m           \u001b[1;31m#---------ValueError: could not convert string to float: 'Java'\u001b[0m\u001b[1;33m\u001b[0m\u001b[1;33m\u001b[0m\u001b[0m\n\u001b[0m\u001b[0;32m      4\u001b[0m \u001b[0ma\u001b[0m\u001b[1;33m=\u001b[0m\u001b[1;34m\"12.abc\"\u001b[0m\u001b[1;33m\u001b[0m\u001b[1;33m\u001b[0m\u001b[0m\n\u001b[0;32m      5\u001b[0m \u001b[0mprint\u001b[0m\u001b[1;33m(\u001b[0m\u001b[0ma\u001b[0m\u001b[1;33m,\u001b[0m \u001b[0mtype\u001b[0m\u001b[1;33m(\u001b[0m\u001b[0ma\u001b[0m\u001b[1;33m)\u001b[0m\u001b[1;33m)\u001b[0m          \u001b[1;31m#-------------12.abc <class 'str'>\u001b[0m\u001b[1;33m\u001b[0m\u001b[1;33m\u001b[0m\u001b[0m\n",
      "\u001b[1;31mValueError\u001b[0m: could not convert string to float: 'Java'"
     ]
    }
   ],
   "source": [
    "a=\"Java\"\n",
    "print(a, type(a))            #-------------Java <class 'str'>\n",
    "b=float(a)           #---------ValueError: could not convert string to float: 'Java'\n",
    "a=\"12.abc\"\n",
    "print(a, type(a))          #-------------12.abc <class 'str'>\n",
    "b=float(a)                      #------------ValueError: could not convert string to float: '12.abc'\n"
   ]
  },
  {
   "cell_type": "markdown",
   "metadata": {},
   "source": [
    "++++++++++++++++++++++++++++++++++++++++++++++++++++++++++++++++++++++++++++++++++++++++++++++++++++++++++++++++++++++++\n",
    "\n",
    "\n",
    "#### c) bool()\n",
    "\n",
    "++++++++++++++++++++++++++++++++++++++++++++++++++++++++++++++++++++++++++++++++++++++++++++++++++++++++++++++++++++++++\n",
    "\n",
    "- bool() is used for convetring Possible Type of Values into bool type value.\n",
    "\n",
    "\n",
    "\n",
    "Syntax:-\n",
    "\n",
    "\t\t      varname=bool ( int / float / complex / str )\n",
    "              \n",
    "- ALL NON-ZERO VALUES IS TRUE \n",
    "- ALL ZERO VALUES IS FALSE"
   ]
  },
  {
   "cell_type": "markdown",
   "metadata": {},
   "source": [
    "=========================================================================================\n",
    "\n",
    "            Examples:(int values---->bool values--->Possible)\n",
    "\n",
    "=========================================================================================\n"
   ]
  },
  {
   "cell_type": "code",
   "execution_count": 1,
   "metadata": {},
   "outputs": [
    {
     "name": "stdout",
     "output_type": "stream",
     "text": [
      "-123 <class 'int'>\n",
      "True <class 'bool'>\n",
      "1234 <class 'int'>\n",
      "True <class 'bool'>\n",
      "0 <class 'int'>\n",
      "False <class 'bool'>\n"
     ]
    }
   ],
   "source": [
    "a=-123\n",
    "print(a, type(a))   #-----------   -123 <class 'int'>\n",
    "b=bool(a)\n",
    "print(b, type(b))           #----------- True <class 'bool'>\n",
    "a=1234\n",
    "print(a, type(a))            #-------- 1234 <class 'int'>\n",
    "b=bool(a)\n",
    "print(b, type(b))            #  ------------ True <class 'bool'>\n",
    "a=0\n",
    "print(a, type(a))             #------- 0 <class 'int'>\n",
    "b=bool(a)\n",
    "print(b, type(b))              #--------- False <class 'bool'>"
   ]
  },
  {
   "cell_type": "markdown",
   "metadata": {},
   "source": [
    "=========================================================================================\n",
    "\n",
    "            Examples:(float values---->bool values--->Possible)\n",
    "\n",
    "========================================================================================="
   ]
  },
  {
   "cell_type": "code",
   "execution_count": 2,
   "metadata": {},
   "outputs": [
    {
     "name": "stdout",
     "output_type": "stream",
     "text": [
      "12.34 <class 'float'>\n",
      "True <class 'bool'>\n",
      "1e-32 <class 'float'>\n",
      "True <class 'bool'>\n",
      "0.0 <class 'float'>\n",
      "False <class 'bool'>\n",
      "-12.3 <class 'float'>\n",
      "True <class 'bool'>\n"
     ]
    }
   ],
   "source": [
    "a=12.34\n",
    "print(a, type(a))                       # ------------12.34 <class 'float'>\n",
    "b=bool(a)\n",
    "print(b, type(b))                                    #-----------True <class 'bool'>\n",
    "a=0.00000000000000000000000000000001\n",
    "print(a, type(a))                           #-------1e-32 <class 'float'>\n",
    "b=bool(a)\n",
    "print(b, type(b))                                #-------True <class 'bool'>\n",
    "a=0.00000000000000000000000000000000000\n",
    "print(a, type(a))                        #  -----0.0 <class 'float'>\n",
    "b=bool(a)\n",
    "print(b, type(b))          #----------False <class 'bool'>\n",
    "a=-12.3\n",
    "print(a, type(a))           #-------  -12.3 <class 'float'>\n",
    "b=bool(a)\n",
    "print(b, type(b))             #------- True <class 'bool'>\n"
   ]
  },
  {
   "cell_type": "markdown",
   "metadata": {},
   "source": [
    "\n",
    "=========================================================================================\n",
    "\n",
    "                 Examples:(complex values---->bool values--->Possible)\n",
    "\n",
    "========================================================================================="
   ]
  },
  {
   "cell_type": "code",
   "execution_count": 4,
   "metadata": {},
   "outputs": [
    {
     "name": "stdout",
     "output_type": "stream",
     "text": [
      "(2+3j) <class 'complex'>\n",
      "True <class 'bool'>\n",
      "0j <class 'complex'>\n",
      "False <class 'bool'>\n"
     ]
    }
   ],
   "source": [
    "a=2+3j\n",
    "print(a, type(a))      #---------(2+3j)  <class 'complex'>\n",
    "b=bool(a)\n",
    "print(b, type(b))        #-------True  <class 'bool'>\n",
    "a=0+0j\n",
    "print(a, type(a))       #-------0j  <class 'complex'>\n",
    "b=bool(a)\n",
    "print(b, type(b))       #-------False  <class 'bool'>"
   ]
  },
  {
   "cell_type": "markdown",
   "metadata": {},
   "source": [
    "=========================================================================================\n",
    "                  \n",
    "                  Examples:(str values---->bool values--->Possible)\n",
    "\n",
    "========================================================================================="
   ]
  },
  {
   "cell_type": "code",
   "execution_count": 3,
   "metadata": {},
   "outputs": [
    {
     "name": "stdout",
     "output_type": "stream",
     "text": [
      "123 <class 'str'>\n",
      "True <class 'bool'>\n",
      "12.34 <class 'str'>\n",
      "True <class 'bool'>\n",
      "0 <class 'str'>\n",
      "True <class 'bool'>\n",
      " <class 'str'>\n",
      "False <class 'bool'>\n",
      "PYTHON <class 'str'>\n",
      "True <class 'bool'>\n"
     ]
    }
   ],
   "source": [
    "a=\"123\"\n",
    "print(a, type(a))        #-------------123 <class 'str'>\n",
    "b=bool(a)\n",
    "print(b, type(b))           #----------True <class 'bool'>\n",
    "a=\"12.34\"\n",
    "print(a, type(a))            #-----------12.34 <class 'str'>\n",
    "b=bool(a)\n",
    "print(b, type(b))          # ---------True <class 'bool'>\n",
    "a=\"0\"\n",
    "print(a, type(a))            #----------0 <class 'str'>\n",
    "b=bool(a)\n",
    "print(b, type(b))              #----------True <class 'bool'>\n",
    "a=\"\"\n",
    "print(a, type(a))        #-------- <class 'str'>\n",
    "b=bool(a)\n",
    "print(b, type(b))             #--------False <class 'bool'>\n",
    "a=\"PYTHON\"\n",
    "print(a, type(a))          #--------PYTHON <class 'str'>\n",
    "b=bool(a)\n",
    "print(b, type(b))            #-----------True <class 'bool'>"
   ]
  },
  {
   "cell_type": "markdown",
   "metadata": {},
   "source": [
    "+++++++++++++++++++++++++++++++++++++++++++++++++++++++++++++++++++++++++++++++++++++++++++++++++++++++++++++++++++++++++\n",
    "\n",
    "#### d) complex()\n",
    "\n",
    "+++++++++++++++++++++++++++++++++++++++++++++++++++++++++++++++++++++++++++++++++++++++++++++++++++++++++++++++++++++++++\n"
   ]
  },
  {
   "cell_type": "markdown",
   "metadata": {},
   "source": [
    "- complex() is used for converting Possible Type of Values into complex type value.\n",
    "\n",
    "        \n",
    "        Syntax:-\n",
    "        \n",
    "\t\t      varname=complex( int / float / bool / str )"
   ]
  },
  {
   "cell_type": "markdown",
   "metadata": {},
   "source": [
    "=========================================================================================\n",
    "\n",
    "                    Examples(int values---->complex--->Possible)\n",
    "\n",
    "========================================================================================="
   ]
  },
  {
   "cell_type": "code",
   "execution_count": 1,
   "metadata": {},
   "outputs": [
    {
     "name": "stdout",
     "output_type": "stream",
     "text": [
      "10 <class 'int'>\n",
      "(10+0j) <class 'complex'>\n",
      "-15 <class 'int'>\n",
      "(-15+0j) <class 'complex'>\n"
     ]
    }
   ],
   "source": [
    "\n",
    "a=10\n",
    "print(a, type(a))            #-------10 <class 'int'>\n",
    "b=complex(a)\n",
    "print(b, type(b))        #--------(10+0j) <class 'complex'>\n",
    "a=-15\n",
    "print(a, type(a))         #--------   -15 <class 'int'>\n",
    "b=complex(a)\n",
    "print(b, type(b))        #-------  (-15+0j) <class 'complex'>\n"
   ]
  },
  {
   "cell_type": "markdown",
   "metadata": {},
   "source": [
    "\n",
    "\n",
    "=========================================================================================\n",
    "\n",
    "                Examples(float values---->complex--->Possible )\n",
    "\n",
    "========================================================================================="
   ]
  },
  {
   "cell_type": "code",
   "execution_count": 2,
   "metadata": {},
   "outputs": [
    {
     "name": "stdout",
     "output_type": "stream",
     "text": [
      "12.3 <class 'float'>\n",
      "(12.3+0j) <class 'complex'>\n"
     ]
    }
   ],
   "source": [
    "a=12.3\n",
    "print(a, type(a))             # -----------12.3 <class 'float'>\n",
    "b=complex(a)\n",
    "print(b, type(b))            #----------(12.3+0j) <class 'complex'>\n"
   ]
  },
  {
   "cell_type": "markdown",
   "metadata": {},
   "source": [
    "=========================================================================================\n",
    "\n",
    "              Examples (bool values---->complex--->Possible )\n",
    "\n",
    "========================================================================================="
   ]
  },
  {
   "cell_type": "code",
   "execution_count": 3,
   "metadata": {},
   "outputs": [
    {
     "name": "stdout",
     "output_type": "stream",
     "text": [
      "True <class 'bool'>\n",
      "(1+0j) <class 'complex'>\n",
      "False <class 'bool'>\n",
      "0j <class 'complex'>\n"
     ]
    }
   ],
   "source": [
    "a=True\n",
    "print(a, type(a))           #---------True <class 'bool'>\n",
    "b=complex(a)\n",
    "print(b, type(b))              #---------(1+0j) <class 'complex'>\n",
    "a=False\n",
    "print(a, type(a))            #---------False <class 'bool'>\n",
    "b=complex(a)\n",
    "print(b, type(b))            #---------0j <class 'complex'>\n"
   ]
  },
  {
   "cell_type": "markdown",
   "metadata": {},
   "source": [
    "=========================================================================================\n",
    "\n",
    "                Examples (String int, float values---->complex--->Possible )\n",
    "\n",
    "========================================================================================="
   ]
  },
  {
   "cell_type": "code",
   "execution_count": 4,
   "metadata": {},
   "outputs": [
    {
     "name": "stdout",
     "output_type": "stream",
     "text": [
      "12 <class 'str'>\n",
      "(12+0j) <class 'complex'>\n",
      "12.3 <class 'str'>\n",
      "(12.3+0j) <class 'complex'>\n"
     ]
    }
   ],
   "source": [
    "\n",
    "a=\"12\"   # string int\n",
    "print(a, type(a))           #----------12 <class 'str'>\n",
    "b=complex(a)\n",
    "print(b, type(b))           #------------(12+0j) <class 'complex'>\n",
    "a=\"12.3\"   # string float\n",
    "print(a, type(a))           #----------12.3 <class 'str'>\n",
    "b=complex(a)\n",
    "print(b, type(b))                #--------(12.3+0j) <class 'complex'>\n"
   ]
  },
  {
   "cell_type": "markdown",
   "metadata": {},
   "source": [
    "=========================================================================================\n",
    "\n",
    "            Examples (String bool values---->complex--->Not Possible)\n",
    "\n",
    "=========================================================================================\n"
   ]
  },
  {
   "cell_type": "code",
   "execution_count": 5,
   "metadata": {
    "collapsed": true
   },
   "outputs": [
    {
     "name": "stdout",
     "output_type": "stream",
     "text": [
      "True <class 'str'>\n"
     ]
    },
    {
     "ename": "ValueError",
     "evalue": "complex() arg is a malformed string",
     "output_type": "error",
     "traceback": [
      "\u001b[1;31m---------------------------------------------------------------------------\u001b[0m",
      "\u001b[1;31mValueError\u001b[0m                                Traceback (most recent call last)",
      "\u001b[1;32m<ipython-input-5-22f420100451>\u001b[0m in \u001b[0;36m<module>\u001b[1;34m\u001b[0m\n\u001b[0;32m      1\u001b[0m \u001b[0ma\u001b[0m\u001b[1;33m=\u001b[0m\u001b[1;34m\"True\"\u001b[0m\u001b[1;33m\u001b[0m\u001b[1;33m\u001b[0m\u001b[0m\n\u001b[0;32m      2\u001b[0m \u001b[0mprint\u001b[0m\u001b[1;33m(\u001b[0m\u001b[0ma\u001b[0m\u001b[1;33m,\u001b[0m \u001b[0mtype\u001b[0m\u001b[1;33m(\u001b[0m\u001b[0ma\u001b[0m\u001b[1;33m)\u001b[0m\u001b[1;33m)\u001b[0m              \u001b[1;31m#------------True   <class 'str'>\u001b[0m\u001b[1;33m\u001b[0m\u001b[1;33m\u001b[0m\u001b[0m\n\u001b[1;32m----> 3\u001b[1;33m \u001b[0mb\u001b[0m\u001b[1;33m=\u001b[0m\u001b[0mcomplex\u001b[0m\u001b[1;33m(\u001b[0m\u001b[0ma\u001b[0m\u001b[1;33m)\u001b[0m                 \u001b[1;31m#----------ValueError: complex() arg is a malformed string\u001b[0m\u001b[1;33m\u001b[0m\u001b[1;33m\u001b[0m\u001b[0m\n\u001b[0m",
      "\u001b[1;31mValueError\u001b[0m: complex() arg is a malformed string"
     ]
    }
   ],
   "source": [
    "a=\"True\"\n",
    "print(a, type(a))              #------------True   <class 'str'>\n",
    "b=complex(a)                 #----------ValueError: complex() arg is a malformed string"
   ]
  },
  {
   "cell_type": "markdown",
   "metadata": {},
   "source": [
    "=========================================================================================\n",
    "\n",
    "                Examples (String compelx values---->complex---> POSSIBLE)\n",
    "\n",
    "========================================================================================="
   ]
  },
  {
   "cell_type": "code",
   "execution_count": 6,
   "metadata": {},
   "outputs": [
    {
     "name": "stdout",
     "output_type": "stream",
     "text": [
      "2+3j <class 'str'>\n",
      "(2+3j) <class 'complex'>\n"
     ]
    }
   ],
   "source": [
    "a=\"2+3j\"\n",
    "print(a, type(a))                            #---------2+3j <class 'str'>\n",
    "b=complex(a)\n",
    "print(b, type(b))               #----------(2+3j) <class 'complex'>"
   ]
  },
  {
   "cell_type": "markdown",
   "metadata": {},
   "source": [
    "\n",
    "=========================================================================================\n",
    "\n",
    "                    Examples (Pure values---->Complex---> Not Possible)\n",
    "\n",
    "========================================================================================="
   ]
  },
  {
   "cell_type": "code",
   "execution_count": 7,
   "metadata": {
    "collapsed": true
   },
   "outputs": [
    {
     "name": "stdout",
     "output_type": "stream",
     "text": [
      "python <class 'str'>\n"
     ]
    },
    {
     "ename": "ValueError",
     "evalue": "complex() arg is a malformed string",
     "output_type": "error",
     "traceback": [
      "\u001b[1;31m---------------------------------------------------------------------------\u001b[0m",
      "\u001b[1;31mValueError\u001b[0m                                Traceback (most recent call last)",
      "\u001b[1;32m<ipython-input-7-1ce52beab735>\u001b[0m in \u001b[0;36m<module>\u001b[1;34m\u001b[0m\n\u001b[0;32m      1\u001b[0m \u001b[0ma\u001b[0m\u001b[1;33m=\u001b[0m\u001b[1;34m\"python\"\u001b[0m\u001b[1;33m\u001b[0m\u001b[1;33m\u001b[0m\u001b[0m\n\u001b[0;32m      2\u001b[0m \u001b[0mprint\u001b[0m\u001b[1;33m(\u001b[0m\u001b[0ma\u001b[0m\u001b[1;33m,\u001b[0m \u001b[0mtype\u001b[0m\u001b[1;33m(\u001b[0m\u001b[0ma\u001b[0m\u001b[1;33m)\u001b[0m\u001b[1;33m)\u001b[0m           \u001b[1;31m#--------python <class 'str'>\u001b[0m\u001b[1;33m\u001b[0m\u001b[1;33m\u001b[0m\u001b[0m\n\u001b[1;32m----> 3\u001b[1;33m \u001b[0mb\u001b[0m\u001b[1;33m=\u001b[0m\u001b[0mcomplex\u001b[0m\u001b[1;33m(\u001b[0m\u001b[0ma\u001b[0m\u001b[1;33m)\u001b[0m             \u001b[1;31m#------------ValueError: complex() arg is a malformed string\u001b[0m\u001b[1;33m\u001b[0m\u001b[1;33m\u001b[0m\u001b[0m\n\u001b[0m",
      "\u001b[1;31mValueError\u001b[0m: complex() arg is a malformed string"
     ]
    }
   ],
   "source": [
    "a=\"python\"\n",
    "print(a, type(a))           #--------python <class 'str'>\n",
    "b=complex(a)             #------------ValueError: complex() arg is a malformed string"
   ]
  },
  {
   "cell_type": "markdown",
   "metadata": {},
   "source": [
    " \n",
    "\n",
    "\n",
    "\n",
    "\n",
    "+++++++++++++++++++++++++++++++++++++++++++++++++++++++++++++++++++++++++++++++++++++++++++++++++++++++++++++++++++++++++\n",
    "\n",
    "#### e) str()\n",
    "\n",
    "+++++++++++++++++++++++++++++++++++++++++++++++++++++++++++++++++++++++++++++++++++++++++++++++++++++++++++++++++++++++++\n",
    "\n",
    "\n",
    "\n",
    "\n",
    "\n",
    "\n",
    "\n"
   ]
  },
  {
   "cell_type": "markdown",
   "metadata": {},
   "source": [
    "\n",
    "- str() is used for converting all Types of Values into str type value.\n",
    " \n",
    "             Syntax:-\n",
    "             \n",
    "                          varname=str( int / float / bool / complex )"
   ]
  },
  {
   "cell_type": "code",
   "execution_count": 10,
   "metadata": {},
   "outputs": [
    {
     "name": "stdout",
     "output_type": "stream",
     "text": [
      "123 <class 'int'>\n",
      "123 <class 'str'>\n"
     ]
    }
   ],
   "source": [
    "a=123\n",
    "print(a, type(a))      #---------123 <class 'int'>\n",
    "b=str(a)\n",
    "print(b, type(b))            #------123 <class 'str'>"
   ]
  },
  {
   "cell_type": "code",
   "execution_count": 11,
   "metadata": {},
   "outputs": [
    {
     "name": "stdout",
     "output_type": "stream",
     "text": [
      "12.34 <class 'float'>\n",
      "12.34 <class 'str'>\n"
     ]
    }
   ],
   "source": [
    "a=12.34\n",
    "print(a, type(a))           #---------12.34 <class 'float'>\n",
    "b=str(a)\n",
    "print(b, type(b))           #--------12.34 <class 'str'>"
   ]
  },
  {
   "cell_type": "code",
   "execution_count": 12,
   "metadata": {},
   "outputs": [
    {
     "name": "stdout",
     "output_type": "stream",
     "text": [
      "True <class 'bool'>\n",
      "True <class 'str'>\n"
     ]
    }
   ],
   "source": [
    "a=True\n",
    "print(a, type(a))           #----------True <class 'bool'>\n",
    "b=str(a)\n",
    "print(b, type(b))          #----------True <class 'str'>"
   ]
  },
  {
   "cell_type": "code",
   "execution_count": 13,
   "metadata": {},
   "outputs": [
    {
     "name": "stdout",
     "output_type": "stream",
     "text": [
      "(2+3j) <class 'complex'>\n",
      "(2+3j) <class 'str'>\n"
     ]
    }
   ],
   "source": [
    "a=2+3j\n",
    "print(a, type(a))              #-------(2+3j) <class 'complex'>\n",
    "b=str(a)\n",
    "print(b, type(b))             #------(2+3j) <class 'str'>"
   ]
  },
  {
   "cell_type": "markdown",
   "metadata": {},
   "source": [
    "## 2. bytes"
   ]
  },
  {
   "cell_type": "markdown",
   "metadata": {},
   "source": [
    "- 'bytes' is on the pre-defined class and treated as Sequential Data Type.\n",
    "- The purpose of bytes data type is that \"To  store Possitive Numerical Integer Values ranges from (0,256), ie. It stores from 0 to 255 only.\n",
    "- bytes data types does not containing Symbolic Notation for representing bytes values  but we can convert other type of values into bytes value by using  bytes()\n",
    "- on the object of bytes , we can perform Indexing and Slicing Operations\n",
    "- An object of bytes belongs to immutable bcoz 'bytes' object does not support item assignment."
   ]
  },
  {
   "cell_type": "code",
   "execution_count": 14,
   "metadata": {
    "collapsed": true
   },
   "outputs": [
    {
     "name": "stdout",
     "output_type": "stream",
     "text": [
      "[10, 20, 30, 4, 256] <class 'list'>\n"
     ]
    },
    {
     "ename": "ValueError",
     "evalue": "bytes must be in range(0, 256)",
     "output_type": "error",
     "traceback": [
      "\u001b[1;31m---------------------------------------------------------------------------\u001b[0m",
      "\u001b[1;31mValueError\u001b[0m                                Traceback (most recent call last)",
      "\u001b[1;32m<ipython-input-14-dd4cc96e57a0>\u001b[0m in \u001b[0;36m<module>\u001b[1;34m\u001b[0m\n\u001b[0;32m      1\u001b[0m \u001b[0mlst\u001b[0m\u001b[1;33m=\u001b[0m\u001b[1;33m[\u001b[0m\u001b[1;36m10\u001b[0m\u001b[1;33m,\u001b[0m\u001b[1;36m20\u001b[0m\u001b[1;33m,\u001b[0m\u001b[1;36m30\u001b[0m\u001b[1;33m,\u001b[0m\u001b[1;36m4\u001b[0m\u001b[1;33m,\u001b[0m\u001b[1;36m256\u001b[0m\u001b[1;33m]\u001b[0m\u001b[1;33m\u001b[0m\u001b[1;33m\u001b[0m\u001b[0m\n\u001b[0;32m      2\u001b[0m \u001b[0mprint\u001b[0m\u001b[1;33m(\u001b[0m\u001b[0mlst\u001b[0m\u001b[1;33m,\u001b[0m \u001b[0mtype\u001b[0m\u001b[1;33m(\u001b[0m\u001b[0mlst\u001b[0m\u001b[1;33m)\u001b[0m\u001b[1;33m)\u001b[0m     \u001b[1;31m#-------------[10, 20, 30, 4, 256] <class 'list'>\u001b[0m\u001b[1;33m\u001b[0m\u001b[1;33m\u001b[0m\u001b[0m\n\u001b[1;32m----> 3\u001b[1;33m \u001b[0mb\u001b[0m\u001b[1;33m=\u001b[0m\u001b[0mbytes\u001b[0m\u001b[1;33m(\u001b[0m\u001b[0mlst\u001b[0m\u001b[1;33m)\u001b[0m          \u001b[1;31m#-----------ValueError: bytes must be in range(0, 256)\u001b[0m\u001b[1;33m\u001b[0m\u001b[1;33m\u001b[0m\u001b[0m\n\u001b[0m",
      "\u001b[1;31mValueError\u001b[0m: bytes must be in range(0, 256)"
     ]
    }
   ],
   "source": [
    "lst=[10,20,30,4,256]\n",
    "print(lst, type(lst))     #-------------[10, 20, 30, 4, 256] <class 'list'>\n",
    "b=bytes(lst)          #-----------ValueError: bytes must be in range(0, 256)"
   ]
  },
  {
   "cell_type": "code",
   "execution_count": 15,
   "metadata": {
    "collapsed": true
   },
   "outputs": [
    {
     "name": "stdout",
     "output_type": "stream",
     "text": [
      "[10, 20, 0, 30, -4, 25] <class 'list'>\n"
     ]
    },
    {
     "ename": "ValueError",
     "evalue": "bytes must be in range(0, 256)",
     "output_type": "error",
     "traceback": [
      "\u001b[1;31m---------------------------------------------------------------------------\u001b[0m",
      "\u001b[1;31mValueError\u001b[0m                                Traceback (most recent call last)",
      "\u001b[1;32m<ipython-input-15-e94936d6eb73>\u001b[0m in \u001b[0;36m<module>\u001b[1;34m\u001b[0m\n\u001b[0;32m      1\u001b[0m \u001b[0mlst\u001b[0m\u001b[1;33m=\u001b[0m\u001b[1;33m[\u001b[0m\u001b[1;36m10\u001b[0m\u001b[1;33m,\u001b[0m\u001b[1;36m20\u001b[0m\u001b[1;33m,\u001b[0m\u001b[1;36m0\u001b[0m\u001b[1;33m,\u001b[0m\u001b[1;36m30\u001b[0m\u001b[1;33m,\u001b[0m\u001b[1;33m-\u001b[0m\u001b[1;36m4\u001b[0m\u001b[1;33m,\u001b[0m\u001b[1;36m25\u001b[0m\u001b[1;33m]\u001b[0m\u001b[1;33m\u001b[0m\u001b[1;33m\u001b[0m\u001b[0m\n\u001b[0;32m      2\u001b[0m \u001b[0mprint\u001b[0m\u001b[1;33m(\u001b[0m\u001b[0mlst\u001b[0m\u001b[1;33m,\u001b[0m \u001b[0mtype\u001b[0m\u001b[1;33m(\u001b[0m\u001b[0mlst\u001b[0m\u001b[1;33m)\u001b[0m\u001b[1;33m)\u001b[0m        \u001b[1;31m# ---------------[10, 20, 0, 30, -4, 25] <class 'list'>\u001b[0m\u001b[1;33m\u001b[0m\u001b[1;33m\u001b[0m\u001b[0m\n\u001b[1;32m----> 3\u001b[1;33m \u001b[0mb\u001b[0m\u001b[1;33m=\u001b[0m\u001b[0mbytes\u001b[0m\u001b[1;33m(\u001b[0m\u001b[0mlst\u001b[0m \u001b[1;33m)\u001b[0m            \u001b[1;31m#-------------ValueError: bytes must be in range(0, 256)\u001b[0m\u001b[1;33m\u001b[0m\u001b[1;33m\u001b[0m\u001b[0m\n\u001b[0m",
      "\u001b[1;31mValueError\u001b[0m: bytes must be in range(0, 256)"
     ]
    }
   ],
   "source": [
    "lst=[10,20,0,30,-4,25]\n",
    "print(lst, type(lst))        # ---------------[10, 20, 0, 30, -4, 25] <class 'list'>\n",
    "b=bytes(lst )            #-------------ValueError: bytes must be in range(0, 256)"
   ]
  },
  {
   "cell_type": "code",
   "execution_count": 16,
   "metadata": {},
   "outputs": [
    {
     "name": "stdout",
     "output_type": "stream",
     "text": [
      "[10, 20, 0, 30, 4, 255] <class 'list'>\n",
      "b'\\n\\x14\\x00\\x1e\\x04\\xff' <class 'bytes'>\n",
      "10\n",
      "20\n",
      "0\n",
      "30\n",
      "4\n",
      "255\n"
     ]
    }
   ],
   "source": [
    "lst=[10,20,0,30,4,255]\n",
    "print(lst, type(lst))            #----------[10, 20, 0, 30, 4, 255] <class 'list'>\n",
    "b=bytes(lst)\n",
    "print(b, type(b))            # ----------b'\\n\\x14\\x00\\x1e\\x04\\xff' <class 'bytes'>\n",
    "for kvr in b:\n",
    "    print(kvr)\t"
   ]
  },
  {
   "cell_type": "code",
   "execution_count": 17,
   "metadata": {
    "collapsed": true
   },
   "outputs": [
    {
     "name": "stdout",
     "output_type": "stream",
     "text": [
      "2449787100544\n",
      "10\n",
      "b'\\n\\x14\\x00\\x1e'\n",
      "10\n",
      "20\n",
      "0\n",
      "30\n"
     ]
    },
    {
     "ename": "TypeError",
     "evalue": "'bytes' object does not support item assignment",
     "output_type": "error",
     "traceback": [
      "\u001b[1;31m---------------------------------------------------------------------------\u001b[0m",
      "\u001b[1;31mTypeError\u001b[0m                                 Traceback (most recent call last)",
      "\u001b[1;32m<ipython-input-17-96d46d173ada>\u001b[0m in \u001b[0;36m<module>\u001b[1;34m\u001b[0m\n\u001b[0;32m      5\u001b[0m     \u001b[0mprint\u001b[0m\u001b[1;33m(\u001b[0m\u001b[0mx\u001b[0m\u001b[1;33m)\u001b[0m\u001b[1;33m\u001b[0m\u001b[1;33m\u001b[0m\u001b[0m\n\u001b[0;32m      6\u001b[0m \u001b[1;33m\u001b[0m\u001b[0m\n\u001b[1;32m----> 7\u001b[1;33m \u001b[0mb\u001b[0m\u001b[1;33m[\u001b[0m\u001b[1;36m0\u001b[0m\u001b[1;33m]\u001b[0m\u001b[1;33m=\u001b[0m\u001b[1;36m100\u001b[0m              \u001b[1;31m#---------------TypeError: 'bytes' object does not support item assignment\u001b[0m\u001b[1;33m\u001b[0m\u001b[1;33m\u001b[0m\u001b[0m\n\u001b[0m",
      "\u001b[1;31mTypeError\u001b[0m: 'bytes' object does not support item assignment"
     ]
    }
   ],
   "source": [
    "print(id(b))         #-----------------------2066811237696\n",
    "print(b[0])              #-----------------10\n",
    "print(b[0:4])                 #---------------b'\\n\\x14\\x00\\x1e'\n",
    "for x in b[0:4]:\n",
    "    print(x)\n",
    "\n",
    "b[0]=100              #---------------TypeError: 'bytes' object does not support item assignment"
   ]
  },
  {
   "cell_type": "markdown",
   "metadata": {},
   "source": [
    "## 3. bytearray"
   ]
  },
  {
   "cell_type": "markdown",
   "metadata": {},
   "source": [
    "- 'bytearray' is on the pre-defined class and treated as Sequential Data Type.\n",
    "- The purpose of bytearray data type is that \"To  store Possitive Numerical Integer Values ranges from (0,256), ie. It stores from 0 to 255 only.\n",
    "- bytearray data types does not contain any  Symbolic Notation for representing bytearray     values but we can convert other type of values into bytearray value by using  bytearray()\n",
    "- on the object of bytearray , we can perform Indexing and Slicing Operations.\n",
    "- An object of bytearray belongs to mutable\n",
    "\n",
    "- Note:- The functionality of bytearray is exactly similar to bytes data types but bytearray data type belongs to mutable where as bytes data type belongs to immutable."
   ]
  },
  {
   "cell_type": "code",
   "execution_count": 8,
   "metadata": {},
   "outputs": [
    {
     "name": "stdout",
     "output_type": "stream",
     "text": [
      "[10, 20, 256, 12, 0] <class 'list'>\n"
     ]
    }
   ],
   "source": [
    "lst=[10,20,256,12,0]\n",
    "print(lst, type(lst))              #------------------[10, 20, 256, 12, 0] <class 'list'>"
   ]
  },
  {
   "cell_type": "code",
   "execution_count": 9,
   "metadata": {
    "collapsed": true
   },
   "outputs": [
    {
     "ename": "ValueError",
     "evalue": "byte must be in range(0, 256)",
     "output_type": "error",
     "traceback": [
      "\u001b[1;31m---------------------------------------------------------------------------\u001b[0m",
      "\u001b[1;31mValueError\u001b[0m                                Traceback (most recent call last)",
      "\u001b[1;32m<ipython-input-9-4a5b889c0abc>\u001b[0m in \u001b[0;36m<module>\u001b[1;34m\u001b[0m\n\u001b[1;32m----> 1\u001b[1;33m \u001b[0mba\u001b[0m\u001b[1;33m=\u001b[0m\u001b[0mbytearray\u001b[0m\u001b[1;33m(\u001b[0m\u001b[0mlst\u001b[0m\u001b[1;33m)\u001b[0m           \u001b[1;31m#---------------ValueError: byte must be in range(0, 256)\u001b[0m\u001b[1;33m\u001b[0m\u001b[1;33m\u001b[0m\u001b[0m\n\u001b[0m\u001b[0;32m      2\u001b[0m \u001b[0mba\u001b[0m\u001b[1;33m\u001b[0m\u001b[1;33m\u001b[0m\u001b[0m\n",
      "\u001b[1;31mValueError\u001b[0m: byte must be in range(0, 256)"
     ]
    }
   ],
   "source": [
    "ba=bytearray(lst)           #---------------ValueError: byte must be in range(0, 256)\n",
    "ba"
   ]
  },
  {
   "cell_type": "code",
   "execution_count": 7,
   "metadata": {},
   "outputs": [
    {
     "name": "stdout",
     "output_type": "stream",
     "text": [
      "bytearray(b'\\n\\x14\\xff\\x0c\\x00') <class 'bytearray'>\n",
      "2304374051632\n",
      "10\n",
      "20\n",
      "255\n",
      "12\n",
      "0\n"
     ]
    }
   ],
   "source": [
    "lst=[10,20,255,12,0]\n",
    "\n",
    "ba=bytearray(lst)\n",
    "print(ba, type(ba))              #-------bytearray(b'\\n\\x14\\xff\\x0c\\x00') <class 'bytearray'>\n",
    "\n",
    "print(id(ba))                 #---------1937799405808\n",
    "\n",
    "for x in ba:\n",
    "    print(x)\t\t"
   ]
  },
  {
   "cell_type": "code",
   "execution_count": 12,
   "metadata": {},
   "outputs": [
    {
     "name": "stdout",
     "output_type": "stream",
     "text": [
      "10\n",
      "bytearray(b'\\n\\x14\\xff\\x0c')\n",
      "10\n",
      "20\n",
      "255\n",
      "12\n"
     ]
    }
   ],
   "source": [
    "print(ba[0])           #-------------10\n",
    "print(ba[0:4])           #----------bytearray(b'\\n\\x14\\xff\\x0c')\n",
    "for x in ba[0:4]:\n",
    "    print(x)\t\t\n"
   ]
  },
  {
   "cell_type": "code",
   "execution_count": 13,
   "metadata": {},
   "outputs": [
    {
     "name": "stdout",
     "output_type": "stream",
     "text": [
      "120\n",
      "20\n",
      "255\n",
      "12\n",
      "0\n",
      "2304374051632\n"
     ]
    }
   ],
   "source": [
    "ba[0]=120   #updated--bcoz bytearray object is mutable\n",
    "for x in ba:\n",
    "    print(x)\n",
    "\n",
    "print(id(ba))                   #---------------1937799405808"
   ]
  },
  {
   "cell_type": "markdown",
   "metadata": {},
   "source": [
    "## 4. range"
   ]
  },
  {
   "cell_type": "markdown",
   "metadata": {},
   "source": [
    "- 'range' is one of the pre-defined class and is treated as sequence data type.\n",
    "- The purpose of range data type is that \" To store Sequence of Numerical Integer values with equal Interval Value \"\n",
    "- An object of range data type is immutable\n",
    "- on the object of range, we can perform Indexing and slicing operations."
   ]
  },
  {
   "cell_type": "markdown",
   "metadata": {},
   "source": [
    "=============================================================================================\n",
    "\n",
    "                Syntax 1:\t\t\tvarname=range(value)\n",
    "\n",
    "=============================================================================================\n",
    "\n",
    "- Here varname is an object of <class,'range'>\n",
    "- Value must be always integer value.\n",
    "- This syntax generates an object of range from 0 to value-1"
   ]
  },
  {
   "cell_type": "code",
   "execution_count": 19,
   "metadata": {},
   "outputs": [
    {
     "name": "stdout",
     "output_type": "stream",
     "text": [
      "<class 'range'>\n",
      "range(0, 10)\n",
      "0\n",
      "1\n",
      "2\n",
      "3\n",
      "4\n",
      "5\n",
      "6\n",
      "7\n",
      "8\n",
      "9\n"
     ]
    }
   ],
   "source": [
    "r=range(10)         # syntax1\n",
    "print(type(r))    #---------<class 'range'>\n",
    "print(r)                   #---------range(0, 10)\n",
    "for  v in r:\n",
    "    print(v)"
   ]
  },
  {
   "cell_type": "code",
   "execution_count": 22,
   "metadata": {},
   "outputs": [
    {
     "name": "stdout",
     "output_type": "stream",
     "text": [
      "0 1 2 3 4 5 6 7 8 9 0\n",
      "1\n",
      "2\n",
      "3\n",
      "4\n",
      "5\n",
      "6\n",
      "7\n",
      "8\n",
      "9\n"
     ]
    }
   ],
   "source": [
    "for  v in r:\n",
    "    print(v, end=\" \")   #---------0 1 2 3 4 5 6 7 8 9 \n",
    "for v in range(10):\n",
    "    print(v)"
   ]
  },
  {
   "cell_type": "markdown",
   "metadata": {},
   "source": [
    "=============================================================================================\n",
    "\n",
    "                Syntax 2:\t\t\tvarname=range(start, stop)\n",
    "                \n",
    "=============================================================================================\n",
    "\n",
    "- This syntax generates an object of range from start  to stop-1 "
   ]
  },
  {
   "cell_type": "code",
   "execution_count": 25,
   "metadata": {
    "collapsed": true
   },
   "outputs": [
    {
     "name": "stdout",
     "output_type": "stream",
     "text": [
      "range(1, 11) <class 'range'>\n",
      "1\n",
      "2\n",
      "3\n",
      "4\n",
      "5\n",
      "6\n",
      "7\n",
      "8\n",
      "9\n",
      "10\n"
     ]
    }
   ],
   "source": [
    "# Examples: generate  1  2  3 4 5 ...................10   ---> range(1, 11)\n",
    "\n",
    "\n",
    "r=range(1,11)\n",
    "print(r, type(r))          #-----------range(1, 11) <class 'range'>\n",
    "for v in r:\n",
    "    print(v)"
   ]
  },
  {
   "cell_type": "code",
   "execution_count": 26,
   "metadata": {},
   "outputs": [
    {
     "name": "stdout",
     "output_type": "stream",
     "text": [
      "1\n",
      "2\n",
      "3\n",
      "4\n",
      "5\n"
     ]
    }
   ],
   "source": [
    "for x in range(1,6):\n",
    "    print(x)"
   ]
  },
  {
   "cell_type": "markdown",
   "metadata": {},
   "source": [
    "\n",
    "=============================================================================================\n",
    "\n",
    "                Syntax 3:\t\t\tvarname=range(start, stop,interval-val)\n",
    "                \n",
    "=============================================================================================\n",
    "\n",
    "- This syntax generates an object of range from start  to stop-1 by maintaining interval-value"
   ]
  },
  {
   "cell_type": "code",
   "execution_count": 30,
   "metadata": {
    "scrolled": true
   },
   "outputs": [
    {
     "name": "stdout",
     "output_type": "stream",
     "text": [
      "10\n",
      "20\n",
      "30\n",
      "40\n",
      "50\n",
      "60\n",
      "70\n",
      "80\n",
      "90\n",
      "100\n",
      "**********\n",
      "1000\n",
      "1002\n",
      "1004\n",
      "1006\n",
      "1008\n",
      "1010\n",
      "**********\n",
      "500\n",
      "550\n",
      "600\n",
      "650\n",
      "700\n",
      "750\n",
      "800\n",
      "850\n",
      "900\n"
     ]
    }
   ],
   "source": [
    "\n",
    "for v in range(10, 101, 10 ):\n",
    "    print(v)\n",
    "    \n",
    "print(\"*\"*10)\n",
    "\n",
    "for  x in range(1000,1011,2):\n",
    "    print(x)\n",
    "\n",
    "print(\"*\"*10)\n",
    "\n",
    "for x in range(500,901,50):\n",
    "    print(x)\t\t\t\t\n",
    "                "
   ]
  },
  {
   "cell_type": "code",
   "execution_count": 31,
   "metadata": {
    "scrolled": true
   },
   "outputs": [
    {
     "name": "stdout",
     "output_type": "stream",
     "text": [
      "10\n",
      "9\n",
      "8\n",
      "7\n",
      "6\n",
      "5\n",
      "4\n",
      "3\n",
      "2\n",
      "1\n"
     ]
    }
   ],
   "source": [
    "# generate    10  9   8   7   6   5   4   3   2   1--- range(10, 0, -1)\n",
    "\n",
    "for v in range(10, 0, -1):\n",
    "    print(v)\n"
   ]
  },
  {
   "cell_type": "code",
   "execution_count": 32,
   "metadata": {},
   "outputs": [
    {
     "name": "stdout",
     "output_type": "stream",
     "text": [
      "20\n",
      "18\n",
      "16\n",
      "14\n",
      "12\n",
      "10\n"
     ]
    }
   ],
   "source": [
    "# generate   20  18  16  14  12  10 \n",
    "\n",
    "for x in range(20,9,-2):\n",
    "    print(x)\n",
    "\t\t\t\t\t"
   ]
  },
  {
   "cell_type": "code",
   "execution_count": 33,
   "metadata": {},
   "outputs": [
    {
     "name": "stdout",
     "output_type": "stream",
     "text": [
      "-1\n",
      "-2\n",
      "-3\n",
      "-4\n",
      "-5\n",
      "-6\n",
      "-7\n",
      "-8\n",
      "-9\n",
      "-10\n"
     ]
    }
   ],
   "source": [
    "\n",
    "#generate    -1  -2  -3 .....-10 \n",
    "\n",
    "for x in range(-1,-11, -1):\n",
    "    print(x)\n",
    "\t\t\t\t"
   ]
  },
  {
   "cell_type": "code",
   "execution_count": 34,
   "metadata": {},
   "outputs": [
    {
     "name": "stdout",
     "output_type": "stream",
     "text": [
      "-50\n",
      "-40\n",
      "-30\n",
      "-20\n",
      "-10\n"
     ]
    }
   ],
   "source": [
    "# generate -50  -40  -30  -20  -10\n",
    "\n",
    "for x in range(-50,-9,10):\n",
    "    print(x)\t\t\t"
   ]
  },
  {
   "cell_type": "code",
   "execution_count": 35,
   "metadata": {},
   "outputs": [
    {
     "name": "stdout",
     "output_type": "stream",
     "text": [
      "-5\n",
      "-4\n",
      "-3\n",
      "-2\n",
      "-1\n",
      "0\n",
      "1\n",
      "2\n",
      "3\n",
      "4\n",
      "5\n"
     ]
    }
   ],
   "source": [
    "# generate  -5  -4  -3  -2   -1   0  1    2   3    4    5-------range(-5,6,1)\n",
    "\n",
    "for x in range(-5,6,1):\n",
    "    print(x)"
   ]
  },
  {
   "cell_type": "code",
   "execution_count": 36,
   "metadata": {},
   "outputs": [
    {
     "name": "stdout",
     "output_type": "stream",
     "text": [
      "9 x 1 = 9\n",
      "9 x 2 = 18\n",
      "9 x 3 = 27\n",
      "9 x 4 = 36\n",
      "9 x 5 = 45\n",
      "9 x 6 = 54\n",
      "9 x 7 = 63\n",
      "9 x 8 = 72\n",
      "9 x 9 = 81\n",
      "9 x 10 = 90\n"
     ]
    }
   ],
   "source": [
    "# generate multiplication for  9 \n",
    "\n",
    "n=9\n",
    "for i in range(1,11):\n",
    "\tprint(n,\"x\",i,\"=\",n*i)\n"
   ]
  },
  {
   "cell_type": "code",
   "execution_count": 38,
   "metadata": {},
   "outputs": [
    {
     "name": "stdout",
     "output_type": "stream",
     "text": [
      "range(10, 21)\n",
      "10\n",
      "11\n",
      "12\n",
      "13\n",
      "14\n",
      "15\n",
      "16\n",
      "17\n",
      "18\n",
      "19\n",
      "20\n",
      "r[0] =  10\n"
     ]
    }
   ],
   "source": [
    "r=range(10,21)\n",
    "print(r)            #-----------range(10, 21)\n",
    "for v in r:\n",
    "    print(v)\n",
    "\n",
    "print(\"r[0] = \",r[0])            #----------------10"
   ]
  },
  {
   "cell_type": "code",
   "execution_count": 39,
   "metadata": {
    "collapsed": true
   },
   "outputs": [
    {
     "name": "stdout",
     "output_type": "stream",
     "text": [
      "range(10, 15)\n",
      "10\n",
      "11\n",
      "12\n",
      "13\n",
      "14\n"
     ]
    },
    {
     "ename": "TypeError",
     "evalue": "'range' object does not support item assignment",
     "output_type": "error",
     "traceback": [
      "\u001b[1;31m---------------------------------------------------------------------------\u001b[0m",
      "\u001b[1;31mTypeError\u001b[0m                                 Traceback (most recent call last)",
      "\u001b[1;32m<ipython-input-39-194f3bcc1e99>\u001b[0m in \u001b[0;36m<module>\u001b[1;34m\u001b[0m\n\u001b[0;32m      3\u001b[0m     \u001b[0mprint\u001b[0m\u001b[1;33m(\u001b[0m\u001b[0mv\u001b[0m\u001b[1;33m)\u001b[0m\u001b[1;33m\u001b[0m\u001b[1;33m\u001b[0m\u001b[0m\n\u001b[0;32m      4\u001b[0m \u001b[1;33m\u001b[0m\u001b[0m\n\u001b[1;32m----> 5\u001b[1;33m \u001b[0mr\u001b[0m\u001b[1;33m[\u001b[0m\u001b[1;36m0\u001b[0m\u001b[1;33m]\u001b[0m\u001b[1;33m=\u001b[0m\u001b[1;36m1200\u001b[0m             \u001b[1;31m#---------TypeError: 'range' object does not support item assignment\u001b[0m\u001b[1;33m\u001b[0m\u001b[1;33m\u001b[0m\u001b[0m\n\u001b[0m\u001b[0;32m      6\u001b[0m \u001b[1;32mfor\u001b[0m \u001b[0mv\u001b[0m \u001b[1;32min\u001b[0m \u001b[0mrange\u001b[0m\u001b[1;33m(\u001b[0m\u001b[1;36m2\u001b[0m\u001b[1;33m,\u001b[0m\u001b[1;36m21\u001b[0m\u001b[1;33m,\u001b[0m\u001b[1;36m2\u001b[0m\u001b[1;33m)\u001b[0m\u001b[1;33m:\u001b[0m\u001b[1;33m\u001b[0m\u001b[1;33m\u001b[0m\u001b[0m\n\u001b[0;32m      7\u001b[0m     \u001b[0mprint\u001b[0m\u001b[1;33m(\u001b[0m\u001b[0mv\u001b[0m\u001b[1;33m)\u001b[0m\u001b[1;33m\u001b[0m\u001b[1;33m\u001b[0m\u001b[0m\n",
      "\u001b[1;31mTypeError\u001b[0m: 'range' object does not support item assignment"
     ]
    }
   ],
   "source": [
    "print(r[0:5])             #--------range(10, 15)\n",
    "for v in r[0:5]:\n",
    "    print(v)\n",
    "\t\t\t\n",
    "r[0]=1200             #---------TypeError: 'range' object does not support item assignment\n",
    "for v in range(2,21,2):\n",
    "    print(v)"
   ]
  },
  {
   "cell_type": "code",
   "execution_count": 40,
   "metadata": {},
   "outputs": [
    {
     "name": "stdout",
     "output_type": "stream",
     "text": [
      "1\n",
      "3\n",
      "5\n",
      "7\n",
      "9\n",
      "11\n",
      "13\n",
      "15\n",
      "17\n",
      "19\n"
     ]
    }
   ],
   "source": [
    "for v in range(1,20,2):\n",
    "    print(v)"
   ]
  }
 ],
 "metadata": {
  "kernelspec": {
   "display_name": "Python 3",
   "language": "python",
   "name": "python3"
  },
  "language_info": {
   "codemirror_mode": {
    "name": "ipython",
    "version": 3
   },
   "file_extension": ".py",
   "mimetype": "text/x-python",
   "name": "python",
   "nbconvert_exporter": "python",
   "pygments_lexer": "ipython3",
   "version": "3.8.5"
  }
 },
 "nbformat": 4,
 "nbformat_minor": 4
}
