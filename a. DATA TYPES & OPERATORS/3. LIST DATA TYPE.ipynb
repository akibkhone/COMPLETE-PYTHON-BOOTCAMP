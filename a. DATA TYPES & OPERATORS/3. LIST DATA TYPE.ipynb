{
 "cells": [
  {
   "attachments": {
    "AK.png": {
     "image/png": "[encoded data removed]"
    }
   },
   "cell_type": "markdown",
   "metadata": {},
   "source": [
    "___\n",
    "\n",
    "<a href='https://akibkhan.tk/'>![AK.png](attachment:AK.png) </a>\n",
    "___\n",
    "<center><em>Content Copyright by Akib Khan </em></center>"
   ]
  },
  {
   "cell_type": "markdown",
   "metadata": {},
   "source": [
    "# <center> List type data Types (Collections data types )\n",
    "\t\t\n",
    "- The purpose of List type data Types is that \"To store multiple values either of same or different type or both the data types with Unique and duplicate values \"\n",
    "\n",
    "- We have two types of List type data Types. They are\n",
    "\n",
    "                            1) list      ( mutable )\n",
    "                            2) tuple   ( immutable )"
   ]
  },
  {
   "cell_type": "markdown",
   "metadata": {},
   "source": [
    "## 1. LIST "
   ]
  },
  {
   "cell_type": "markdown",
   "metadata": {},
   "source": [
    "=========================================================================\n",
    "\n",
    "Index of list :\n",
    "\n",
    "=========================================================================\n",
    "- Purpose of list\n",
    "- Properties of List data type\n",
    "- Indexing and Slicing Operations on list\n",
    "- Additional Operations on list with Pre-defined Functions\n",
    "- Inner / Nested List\n",
    "- Additional Operations on inner list with Pre-defined Functions\n",
    "\n"
   ]
  },
  {
   "cell_type": "markdown",
   "metadata": {},
   "source": [
    "=====================================================================================\n",
    "\n",
    "### Properties of list data type:\n",
    "\n",
    "=====================================================================================\n",
    "\n",
    "- 'list' is one of the pre-defined class and treated as List type data type ( Collections data types )\n",
    "- The purpose of list type data type is that \" To store multiple values either of same or different type or both the data types with Unique and duplicate values \"\n",
    "- The elements of list must be organized in the form of square brackets [ ] and elements must separated by comma.\n",
    "\n",
    "\n",
    "                Syntax:             varname=[val1,val2....val-n]\n",
    "\n",
    "                                HERE, varname is an object of type <class, 'list'>\n",
    "                                \n",
    "                                \n",
    "- An object of list maintains Insertion Order ( Whatever the order we inserted , in the same ordeR elements will be displayed )\n",
    "- On the object of list, we can perform Both Indexing and Slicing Operations\n",
    "- To convert one type of Possible value into list type values, we use list()\n",
    "\t\t\n",
    "                    Syntax:-     listobj=list(another object)\n",
    "\n"
   ]
  },
  {
   "cell_type": "markdown",
   "metadata": {},
   "source": [
    "#### Types Of List :\n",
    "\n",
    "- We have two types of lists. They are\n",
    "\t\ta) Non-empty list\n",
    "\t\tb) Empty list\n",
    "        \n",
    "- A Empty list is one , whose length is 0 \n",
    "\n",
    "*Syntax for creating empty list:*\n",
    "\n",
    "                                    listobj=[ ]\n",
    "                                       (or)\n",
    "                                    listobj=list()\n",
    "                                    \n",
    "- Non-empty list is one, whose length is >0\n",
    "\n",
    "*Syntax:*\n",
    "\n",
    "                    listobj=[val1,val2....val-n]\n",
    "                    \n",
    "- An object of list is mutable.\n"
   ]
  },
  {
   "cell_type": "code",
   "execution_count": 3,
   "metadata": {},
   "outputs": [
    {
     "name": "stdout",
     "output_type": "stream",
     "text": [
      "[10, 20, -23, 456, 10, 12] <class 'list'>\n"
     ]
    }
   ],
   "source": [
    "l1=[10,20,-23,456,10,12]\n",
    "print(l1, type(l1))            #-----------[10, 20, -23, 456, 10, 12] <class 'list'>"
   ]
  },
  {
   "cell_type": "code",
   "execution_count": 4,
   "metadata": {
    "collapsed": true
   },
   "outputs": [
    {
     "name": "stdout",
     "output_type": "stream",
     "text": [
      "[10, 'abhijeet', 66.66, 'OUCET', True] <class 'list'>\n",
      "10\n",
      "abhijeet\n",
      "OUCET\n"
     ]
    },
    {
     "ename": "IndexError",
     "evalue": "list index out of range",
     "output_type": "error",
     "traceback": [
      "\u001b[1;31m---------------------------------------------------------------------------\u001b[0m",
      "\u001b[1;31mIndexError\u001b[0m                                Traceback (most recent call last)",
      "\u001b[1;32m<ipython-input-4-f9e6008134cf>\u001b[0m in \u001b[0;36m<module>\u001b[1;34m\u001b[0m\n\u001b[0;32m      4\u001b[0m \u001b[0mprint\u001b[0m\u001b[1;33m(\u001b[0m \u001b[0ml2\u001b[0m\u001b[1;33m[\u001b[0m\u001b[1;36m1\u001b[0m\u001b[1;33m]\u001b[0m\u001b[1;33m)\u001b[0m               \u001b[1;31m#-----------abhijeet\u001b[0m\u001b[1;33m\u001b[0m\u001b[1;33m\u001b[0m\u001b[0m\n\u001b[0;32m      5\u001b[0m \u001b[0mprint\u001b[0m\u001b[1;33m(\u001b[0m \u001b[0ml2\u001b[0m\u001b[1;33m[\u001b[0m\u001b[1;36m3\u001b[0m\u001b[1;33m]\u001b[0m\u001b[1;33m)\u001b[0m                        \u001b[1;31m#------------OUCET\u001b[0m\u001b[1;33m\u001b[0m\u001b[1;33m\u001b[0m\u001b[0m\n\u001b[1;32m----> 6\u001b[1;33m \u001b[0mprint\u001b[0m\u001b[1;33m(\u001b[0m \u001b[0ml2\u001b[0m\u001b[1;33m[\u001b[0m\u001b[1;36m30\u001b[0m\u001b[1;33m]\u001b[0m\u001b[1;33m)\u001b[0m                      \u001b[1;31m#----------IndexError: list index out of range\u001b[0m\u001b[1;33m\u001b[0m\u001b[1;33m\u001b[0m\u001b[0m\n\u001b[0m\u001b[0;32m      7\u001b[0m \u001b[0mprint\u001b[0m\u001b[1;33m(\u001b[0m\u001b[0ml2\u001b[0m\u001b[1;33m[\u001b[0m\u001b[1;36m0\u001b[0m\u001b[1;33m:\u001b[0m\u001b[1;36m3\u001b[0m\u001b[1;33m]\u001b[0m\u001b[1;33m)\u001b[0m                  \u001b[1;31m#---------[10, 'abhijeet', 66.66]\u001b[0m\u001b[1;33m\u001b[0m\u001b[1;33m\u001b[0m\u001b[0m\n",
      "\u001b[1;31mIndexError\u001b[0m: list index out of range"
     ]
    }
   ],
   "source": [
    "l2=[10,\"abhijeet\",66.66,\"OUCET\",True]\n",
    "print(l2, type(l2))                  #-----------[10, 'abhijeet', 66.66, 'OUCET', True] <class 'list'>\n",
    "print( l1[0])       #------------10\n",
    "print( l2[1])               #-----------abhijeet\n",
    "print( l2[3])                        #------------OUCET\n",
    "print( l2[30])                      #----------IndexError: list index out of range\n",
    "print(l2[0:3])                  #---------[10, 'abhijeet', 66.66]\n"
   ]
  },
  {
   "cell_type": "code",
   "execution_count": 2,
   "metadata": {},
   "outputs": [
    {
     "name": "stdout",
     "output_type": "stream",
     "text": [
      "[] <class 'list'>\n",
      "[] <class 'list'>\n",
      "0 0\n",
      "6 5\n"
     ]
    }
   ],
   "source": [
    "l3=[]\n",
    "print(l3, type(l3))                     #-------[] <class 'list'>\n",
    "l4=list()\n",
    "print(l4, type(l4))                 #--------[] <class 'list'>\n",
    "print( len(l3), len(l4) )                  #---------0  0   # empty list\n",
    "print( len(l1), len(l2) )                #--------6   5    # non-empty list"
   ]
  },
  {
   "cell_type": "markdown",
   "metadata": {},
   "source": [
    "=================================================================================================================\n",
    "\n",
    "### Additional Operations on list with Pre-defined Functions\n",
    "\n",
    "=================================================================================================================\n",
    "\n",
    "- Along with indexing and slicing operations on list object, we can also perform additional operations with Pre-defined Functions, which are present list object. They are -\n",
    "\n",
    "                                            1. append()\n",
    "                                            2. insert()\n",
    "                                            3. remove()\n",
    "                                            4. clear()\n",
    "                                            5. pop(index)\n",
    "                                            6. pop()\n",
    "                                            7. count()\n",
    "                                            8. copy()\n",
    "                                                    a. shallow copy\n",
    "                                                    b. deep copy\n",
    "                                            9. index()\n",
    "                                            10. extend()\n",
    "                                            11. reverse()\n",
    "                                            12. sort()"
   ]
  },
  {
   "cell_type": "markdown",
   "metadata": {},
   "source": [
    "==================================\n",
    "\n",
    " #### 1) append()\n",
    "\n",
    "==================================\n",
    "\n",
    "- This function is used for adding an element at end of existing elements of list (known as appending)\n",
    "\n",
    "            Syntax:-     listobj.append(element)\n"
   ]
  },
  {
   "cell_type": "code",
   "execution_count": 24,
   "metadata": {},
   "outputs": [
    {
     "name": "stdout",
     "output_type": "stream",
     "text": [
      "[] <class 'list'>\n",
      "[] 0 <class 'list'>\n",
      "[12] 1 2331223349504\n",
      "[12, 'KVR'] 2 2331223349504\n",
      "[12, 'KVR', 'HYD'] 3 2331223349504\n",
      "[12, 'KVR', 'HYD', 45.67] 4 2331223349504\n"
     ]
    }
   ],
   "source": [
    "lst=[]\n",
    "print(lst,type(lst))        #---------[] <class 'list'>\n",
    "print(lst,len(lst),type(lst))             #-------[] 0 <class 'list'>\n",
    "\n",
    "lst.append(12)\n",
    "print(lst,len(lst), id(lst))                #---------[12]  1    2899404743424\n",
    "\n",
    "lst.append(\"KVR\")\n",
    "print(lst,len(lst), id(lst))               #--------[12, 'KVR']  2      2899404743424\n",
    "\n",
    "lst.append(\"HYD\")\n",
    "print(lst,len(lst), id(lst))              #---------[12, 'KVR', 'HYD']  3   2899404743424\n",
    "\n",
    "lst.append(45.67)\n",
    "print(lst,len(lst), id(lst))               #--------[12, 'KVR', 'HYD', 45.67]  4    2899404743424"
   ]
  },
  {
   "cell_type": "markdown",
   "metadata": {},
   "source": [
    "==================================\n",
    "\n",
    "#### 2) insert():\n",
    "\n",
    "==================================\n",
    "\n",
    "\n",
    "- This function is used for inserting a new element at a perticular existing index (+ve or -ve )\n",
    "\n",
    "                        Syntax:-\n",
    "                        \n",
    "                                listobj.insert(valid index, element)"
   ]
  },
  {
   "cell_type": "code",
   "execution_count": 23,
   "metadata": {},
   "outputs": [
    {
     "name": "stdout",
     "output_type": "stream",
     "text": [
      "[12, 'KVR', 'HYD', 45.67]\n",
      "[12, 'KVR', 'PYTHON', 'HYD', 45.67]\n",
      "[12, 'KVR', 'PYTHON', (2+3j), 'HYD', 45.67]\n",
      "[12, 'KVR', 'PYTHON', 'India', 'HYD', 45.67]\n"
     ]
    }
   ],
   "source": [
    "\n",
    "lst=[12, 'KVR', 'HYD', 45.67]\n",
    "print(lst)              #-------------[12, 'KVR', 'HYD', 45.67]\n",
    "\n",
    "lst.insert(2,\"PYTHON\")\n",
    "print(lst)                      #-------------[12, 'KVR', 'PYTHON', 'HYD', 45.67]\n",
    "\n",
    "lst.insert(3,2+3j)\n",
    "print(lst)             #-----------[12, 'KVR', 'PYTHON', (2+3j), 'HYD', 45.67]\n",
    "\n",
    "lst[3]=\"India\"\n",
    "print(lst)             #--------[12, 'KVR', 'PYTHON', 'India', 'HYD', 45.67]\n"
   ]
  },
  {
   "cell_type": "markdown",
   "metadata": {},
   "source": [
    "==================================\n",
    "\n",
    "#### 3) remove():\n",
    "\n",
    "==================================\n",
    "\n",
    "- This function is used for removing First occurence of the specified element provided the element is found . if the element is not found then we get ValueError\n",
    "\n",
    "                                     Syntax:-   listobj.remove(element)\n"
   ]
  },
  {
   "cell_type": "code",
   "execution_count": 26,
   "metadata": {
    "scrolled": true
   },
   "outputs": [
    {
     "name": "stdout",
     "output_type": "stream",
     "text": [
      "[12, 'KVR', 'PYTHON', 'India', 'HYD', 45.67, 12]\n",
      "[12, 'KVR', 'PYTHON', 'HYD', 45.67, 12]\n"
     ]
    },
    {
     "ename": "ValueError",
     "evalue": "list.remove(x): x not in list",
     "output_type": "error",
     "traceback": [
      "\u001b[1;31m---------------------------------------------------------------------------\u001b[0m",
      "\u001b[1;31mValueError\u001b[0m                                Traceback (most recent call last)",
      "\u001b[1;32m<ipython-input-26-2ef47d13cc39>\u001b[0m in \u001b[0;36m<module>\u001b[1;34m\u001b[0m\n\u001b[0;32m      6\u001b[0m \u001b[1;33m\u001b[0m\u001b[0m\n\u001b[0;32m      7\u001b[0m \u001b[0mlst\u001b[0m\u001b[1;33m=\u001b[0m\u001b[1;33m[\u001b[0m\u001b[1;36m12\u001b[0m\u001b[1;33m,\u001b[0m \u001b[1;34m'KVR'\u001b[0m\u001b[1;33m,\u001b[0m \u001b[1;34m'PYTHON'\u001b[0m\u001b[1;33m,\u001b[0m \u001b[1;34m'India'\u001b[0m\u001b[1;33m,\u001b[0m \u001b[1;34m'HYD'\u001b[0m\u001b[1;33m,\u001b[0m \u001b[1;36m45.67\u001b[0m\u001b[1;33m,\u001b[0m\u001b[1;36m12\u001b[0m\u001b[1;33m]\u001b[0m\u001b[1;33m\u001b[0m\u001b[1;33m\u001b[0m\u001b[0m\n\u001b[1;32m----> 8\u001b[1;33m \u001b[0mlst\u001b[0m\u001b[1;33m.\u001b[0m\u001b[0mremove\u001b[0m\u001b[1;33m(\u001b[0m\u001b[1;34m\"3\"\u001b[0m\u001b[1;33m)\u001b[0m                      \u001b[1;31m#-----------ValueError: list.remove(x): x not in list\u001b[0m\u001b[1;33m\u001b[0m\u001b[1;33m\u001b[0m\u001b[0m\n\u001b[0m",
      "\u001b[1;31mValueError\u001b[0m: list.remove(x): x not in list"
     ]
    }
   ],
   "source": [
    "lst=[12, 'KVR', 'PYTHON', 'India', 'HYD', 45.67,12]\n",
    "print(lst)                       #---------[12, 'KVR', 'PYTHON', 'India', 'HYD', 45.67, 12]\n",
    "\n",
    "lst.remove(\"India\")\n",
    "print(lst)                 #------------[12, 'KVR', 'PYTHON', 'HYD', 45.67, 12]\n",
    "\n",
    "lst=[12, 'KVR', 'PYTHON', 'India', 'HYD', 45.67,12]\n",
    "lst.remove(\"3\")                      #-----------ValueError: list.remove(x): x not in list\n"
   ]
  },
  {
   "cell_type": "code",
   "execution_count": 27,
   "metadata": {},
   "outputs": [
    {
     "name": "stdout",
     "output_type": "stream",
     "text": [
      "[12, 'KVR', 'PYTHON', 'India', 'HYD', 45.67, 12]\n",
      "['KVR', 'PYTHON', 'India', 'HYD', 45.67, 12]\n",
      "['KVR', 'PYTHON', 'India', 'HYD', 45.67]\n"
     ]
    }
   ],
   "source": [
    "lst=[12, 'KVR', 'PYTHON', 'India', 'HYD', 45.67,12]\n",
    "print(lst)                       #-------[12, 'KVR', 'PYTHON', 'India', 'HYD', 45.67, 12]\n",
    "\n",
    "lst.remove(12)\n",
    "print(lst)                          #----------['KVR', 'PYTHON', 'India', 'HYD', 45.67, 12]\n",
    "\n",
    "lst.remove(12)\n",
    "print(lst)                      #----------['KVR', 'PYTHON', 'India', 'HYD', 45."
   ]
  },
  {
   "cell_type": "markdown",
   "metadata": {},
   "source": [
    "==================================\n",
    "\n",
    "#### 4) clear():\n",
    "\n",
    "==================================\n",
    "\n",
    "\n",
    "- This function is used for removing all the elements of list and list object becomes empty\n",
    "\n",
    "\n",
    "                            Syntax:-   listobj.clear()\n"
   ]
  },
  {
   "cell_type": "code",
   "execution_count": 47,
   "metadata": {},
   "outputs": [
    {
     "name": "stdout",
     "output_type": "stream",
     "text": [
      "[12, 'KVR', 'PYTHON', 'India', 'HYD', 45.67, 12] 7\n",
      "[] 0\n"
     ]
    }
   ],
   "source": [
    "\n",
    "lst=[12, 'KVR', 'PYTHON', 'India', 'HYD', 45.67,12]\n",
    "print(lst, len(lst))                             #-------[12, 'KVR', 'PYTHON', 'India', 'HYD', 45.67, 12]         7\n",
    "lst.clear()\n",
    "print(lst, len(lst))         #-----  []    "
   ]
  },
  {
   "cell_type": "markdown",
   "metadata": {},
   "source": [
    "==================================\n",
    "\n",
    "#### 5) pop(index)\n",
    "\n",
    "==================================\n",
    "\n",
    "- This function is used for removing an element of list object  and returned by passing valid existing index ( +ve or -ve index).\n",
    "- If the index is invalid then we get IndexError.\n",
    "\n",
    "                        Syntax:-  listobj.pop(index)\n",
    "\n",
    "\n"
   ]
  },
  {
   "cell_type": "code",
   "execution_count": 46,
   "metadata": {
    "collapsed": true
   },
   "outputs": [
    {
     "name": "stdout",
     "output_type": "stream",
     "text": [
      "[12, 'KVR', 'PYTHON', 'India', 'HYD', 45.67, 12]\n",
      "[12, 'KVR', 'PYTHON', 'HYD', 45.67, 12]\n",
      "[12, 'KVR', 'PYTHON', 'HYD', 12]\n"
     ]
    },
    {
     "ename": "IndexError",
     "evalue": "pop index out of range",
     "output_type": "error",
     "traceback": [
      "\u001b[1;31m---------------------------------------------------------------------------\u001b[0m",
      "\u001b[1;31mIndexError\u001b[0m                                Traceback (most recent call last)",
      "\u001b[1;32m<ipython-input-46-fdaecf4352e4>\u001b[0m in \u001b[0;36m<module>\u001b[1;34m\u001b[0m\n\u001b[0;32m      5\u001b[0m \u001b[0mlst\u001b[0m\u001b[1;33m.\u001b[0m\u001b[0mpop\u001b[0m\u001b[1;33m(\u001b[0m\u001b[1;33m-\u001b[0m\u001b[1;36m2\u001b[0m\u001b[1;33m)\u001b[0m                              \u001b[1;31m#---------45.67\u001b[0m\u001b[1;33m\u001b[0m\u001b[1;33m\u001b[0m\u001b[0m\n\u001b[0;32m      6\u001b[0m \u001b[0mprint\u001b[0m\u001b[1;33m(\u001b[0m\u001b[0mlst\u001b[0m\u001b[1;33m)\u001b[0m                               \u001b[1;31m#--------[12, 'KVR', 'PYTHON', 'HYD', 12]\u001b[0m\u001b[1;33m\u001b[0m\u001b[1;33m\u001b[0m\u001b[0m\n\u001b[1;32m----> 7\u001b[1;33m \u001b[0mlst\u001b[0m\u001b[1;33m.\u001b[0m\u001b[0mpop\u001b[0m\u001b[1;33m(\u001b[0m\u001b[1;36m13\u001b[0m\u001b[1;33m)\u001b[0m                              \u001b[1;31m#-------IndexError: pop index out of range\u001b[0m\u001b[1;33m\u001b[0m\u001b[1;33m\u001b[0m\u001b[0m\n\u001b[0m\u001b[0;32m      8\u001b[0m \u001b[1;33m\u001b[0m\u001b[0m\n",
      "\u001b[1;31mIndexError\u001b[0m: pop index out of range"
     ]
    }
   ],
   "source": [
    "lst=[12, 'KVR', 'PYTHON', 'India', 'HYD', 45.67, 12]\n",
    "print(lst)                                  #------------[12, 'KVR', 'PYTHON', 'India', 'HYD', 45.67, 12]\n",
    "lst.pop(3)                                  #---------'India'\n",
    "print(lst)                                  #----------[12, 'KVR', 'PYTHON', 'HYD', 45.67, 12]\n",
    "lst.pop(-2)                              #---------45.67\n",
    "print(lst)                               #--------[12, 'KVR', 'PYTHON', 'HYD', 12]\n",
    "lst.pop(13)                              #-------IndexError: pop index out of range\n",
    "                              "
   ]
  },
  {
   "cell_type": "markdown",
   "metadata": {},
   "source": [
    "==================================\n",
    "\n",
    "#### 6) pop()\n",
    "\n",
    "==================================\n",
    "\n",
    "- This function is used for removing the last element of list object.\n",
    "- When we call pop() upon empty list object then we get IndexError\n",
    "\n",
    "\n",
    "                            Syntax:     listobj.pop()\n"
   ]
  },
  {
   "cell_type": "code",
   "execution_count": 45,
   "metadata": {
    "collapsed": true
   },
   "outputs": [
    {
     "name": "stdout",
     "output_type": "stream",
     "text": [
      "[12, 'KVR', 'PYTHON', 'India', 'HYD', 45.67, 12]\n",
      "[12, 'KVR', 'java', 'PYTHON', 'India', 'HYD', 45.67, 12]\n",
      "[12, 'KVR', 'java', 'PYTHON', 'India', 'HYD', 45.67]\n",
      "[12, 'KVR', 'java', 'PYTHON', 'India', 'HYD']\n",
      "[12, 'KVR', 'java', 'PYTHON', 'India']\n",
      "[12, 'KVR', 'java', 'PYTHON']\n",
      "[12, 'KVR', 'java']\n",
      "[12, 'KVR']\n",
      "[12]\n",
      "[]\n"
     ]
    },
    {
     "ename": "IndexError",
     "evalue": "pop from empty list",
     "output_type": "error",
     "traceback": [
      "\u001b[1;31m---------------------------------------------------------------------------\u001b[0m",
      "\u001b[1;31mIndexError\u001b[0m                                Traceback (most recent call last)",
      "\u001b[1;32m<ipython-input-45-c63d611f5591>\u001b[0m in \u001b[0;36m<module>\u001b[1;34m\u001b[0m\n\u001b[0;32m     19\u001b[0m \u001b[0mlst\u001b[0m\u001b[1;33m.\u001b[0m\u001b[0mpop\u001b[0m\u001b[1;33m(\u001b[0m\u001b[1;33m)\u001b[0m                         \u001b[1;31m#--------12\u001b[0m\u001b[1;33m\u001b[0m\u001b[1;33m\u001b[0m\u001b[0m\n\u001b[0;32m     20\u001b[0m \u001b[0mprint\u001b[0m\u001b[1;33m(\u001b[0m\u001b[0mlst\u001b[0m\u001b[1;33m)\u001b[0m                        \u001b[1;31m#-----------[]\u001b[0m\u001b[1;33m\u001b[0m\u001b[1;33m\u001b[0m\u001b[0m\n\u001b[1;32m---> 21\u001b[1;33m \u001b[0mlst\u001b[0m\u001b[1;33m.\u001b[0m\u001b[0mpop\u001b[0m\u001b[1;33m(\u001b[0m\u001b[1;33m)\u001b[0m                         \u001b[1;31m#------------IndexError: pop from empty list\u001b[0m\u001b[1;33m\u001b[0m\u001b[1;33m\u001b[0m\u001b[0m\n\u001b[0m",
      "\u001b[1;31mIndexError\u001b[0m: pop from empty list"
     ]
    }
   ],
   "source": [
    "\n",
    "lst=[12, 'KVR', 'PYTHON', 'India', 'HYD', 45.67, 12]\n",
    "print(lst)                     #------------[12, 'KVR', 'PYTHON', 'India', 'HYD', 45.67, 12]\n",
    "lst.insert(2,\"java\")\n",
    "print(lst)                 #-----------[12, 'KVR', 'java', 'PYTHON', 'India', 'HYD', 45.67, 12]\n",
    "lst.pop()                          #-----------12\n",
    "print(lst)                        #------------[12, 'KVR', 'java', 'PYTHON', 'India', 'HYD', 45.67]\n",
    "lst.pop()                         #-----------45.67\n",
    "print(lst)                        #----------[12, 'KVR', 'java', 'PYTHON', 'India', 'HYD']\n",
    "lst.pop()                         #----------'HYD'\n",
    "print(lst)                        #-----------[12, 'KVR', 'java', 'PYTHON', 'India']\n",
    "lst.pop()                         #---------'India'\n",
    "print(lst)                        #----------[12, 'KVR', 'java', 'PYTHON']\n",
    "lst.pop()                         #----------'PYTHON'\n",
    "print(lst)                        #---------[12, 'KVR', 'java']\n",
    "lst.pop()                         #--------'java'\n",
    "print(lst)                        #---------[12, 'KVR']\n",
    "lst.pop()                         #---------'KVR'\n",
    "print(lst)                        #-----------[12]\n",
    "lst.pop()                         #--------12\n",
    "print(lst)                        #-----------[]\n",
    "lst.pop()                         #------------IndexError: pop from empty list\n"
   ]
  },
  {
   "cell_type": "markdown",
   "metadata": {},
   "source": [
    "==================================\n",
    "\n",
    "#### 7) count():\n",
    " \n",
    "==================================\n",
    " \n",
    "- This function is used for finding number of occurences of a specified element\n",
    "- If the specified element does not exists then whose number of occurences is 0\n",
    "\n",
    "                                  Syntax:-     lstobj.count(element)\n"
   ]
  },
  {
   "cell_type": "code",
   "execution_count": 43,
   "metadata": {},
   "outputs": [
    {
     "name": "stdout",
     "output_type": "stream",
     "text": [
      "[10, 20, 10, 30, 10, 10, 20, 20, 40]\n",
      "9\n",
      "4\n",
      "3\n",
      "1\n",
      "1\n",
      "0\n"
     ]
    }
   ],
   "source": [
    "\n",
    "lst1=[10,20,10,30,10,10,20,20,40]\n",
    "print(lst1)                         #----------------[10, 20, 10, 30, 10, 10, 20, 20, 40]\n",
    "print(len(lst1))            #---------9\n",
    "print(lst1.count(10))              # -------------4\n",
    "print(lst1.count(20))             #---------3\n",
    "print(lst1.count(30))            #---------1\n",
    "print(lst1.count(40))             #----------1\n",
    "print(lst1.count(400))                  #--------- 0"
   ]
  },
  {
   "cell_type": "markdown",
   "metadata": {},
   "source": [
    "==================================\n",
    "\n",
    "#### 8) copy():\n",
    "\n",
    "==================================\n",
    "\n",
    "- This function is used for copying the content of one object into another object.\n",
    "- Copy () implements shallow copy\n",
    "\n",
    "                                Syntax:-        listobj2=listobj1.copy()\n"
   ]
  },
  {
   "cell_type": "markdown",
   "metadata": {},
   "source": [
    "============================================\n",
    "\n",
    "##### Types Copy Mechanisms\n",
    "\n",
    "============================================\t\n",
    "\n",
    "- In python Programming , we have two type copy mechanisms. They are\n",
    "\t\t\ta) Shallow Copy\n",
    "\t\t\tb) Deep Copy\n",
    "\n",
    "###### a) Shallow Copy:\n",
    "\n",
    "-In  Shallow Copy, the content of one object copied into another object by satisfying the following points.\n",
    "\t\ta) Initially, the content of Both objects is same\n",
    "\t\tb) The memory address of Both the objects are different\n",
    "\t\tc) The Modification / Updations on the objects are Independent (Whatever the modifications we do on one object, that modifications are not refecting on another object )\n",
    "- In Python, To implement Shallow Copy Process, we use copy()\n",
    "\n",
    "###### 2) Deep Copy:\n",
    "\n",
    "- In  Deep Copy, the content of one object copied into another object by satisfying the following points.\n",
    "\t\ta) Initially, the content of Both objects is same\n",
    "\t\tb) The memory address of Both the objects are Same\n",
    "\t\tc) The Modification / Updations on the objects are dependent (Whatever the modifications we do on one object, that modifications are  refecting on         another object )\n",
    "- In Python, To implement Deep Copy Process, we use   assignment operator =\n",
    "\n",
    "                            Syntax:-       object2=object1\n"
   ]
  },
  {
   "cell_type": "code",
   "execution_count": 5,
   "metadata": {},
   "outputs": [
    {
     "name": "stdout",
     "output_type": "stream",
     "text": [
      "[10, 'Rossum'] 2331222842624\n",
      "[10, 'Rossum'] 2331222137408\n",
      "[10, 'Rossum', 'PYTHON'] 2331222842624\n",
      "[10, 'Rossum'] 2331222137408\n",
      "[10, 'Django', 'Rossum'] 2331222137408\n",
      "[10, 'Rossum', 'PYTHON'] 2331222842624\n"
     ]
    }
   ],
   "source": [
    "lst1=[10,\"Rossum\"]\n",
    "print(lst1,id(lst1))               #-------------[10, 'Rossum'] 3084785888960\n",
    "\n",
    "lst2=lst1.copy()\n",
    "print(lst2,id(lst2))                     #------------[10, 'Rossum'] 3084777454528\n",
    "\n",
    "lst1.append(\"PYTHON\")\n",
    "print(lst1,id(lst1))                      #------------[10, 'Rossum', 'PYTHON'] 3084785888960\n",
    "print(lst2,id(lst2))                  #----------[10, 'Rossum'] 3084777454528\n",
    "\n",
    "lst2.insert(1,\"Django\")\n",
    "print(lst2,id(lst2))                    #-----------[10, 'Django', 'Rossum'] 3084777454528\n",
    "print(lst1,id(lst1))          #----------[10, 'Rossum', 'PYTHON'] 3084785888960\n"
   ]
  },
  {
   "cell_type": "markdown",
   "metadata": {},
   "source": [
    "==================================\n",
    "\n",
    "       Examples on Deep Copy\n",
    "\n",
    "==================================\n",
    "\n"
   ]
  },
  {
   "cell_type": "code",
   "execution_count": 42,
   "metadata": {},
   "outputs": [
    {
     "name": "stdout",
     "output_type": "stream",
     "text": [
      "[10, 'Rossum'] 2331223370176\n",
      "[10, 'Rossum'] 2331223370176\n",
      "[10, 'Rossum', 'Python'] 2331223370176\n",
      "[10, 'Rossum', 'Python'] 2331223370176\n",
      "[10, 'Rossum', 'java', 'Python'] 2331223370176\n",
      "[10, 'Rossum', 'java', 'Python'] 2331223370176\n"
     ]
    }
   ],
   "source": [
    "lst1=[10,\"Rossum\"]\n",
    "lst2=lst1                      #----------------------------DEEP COPY\n",
    "print(lst1, id(lst1))                  # -----------------[10, 'Rossum'] 3084785902912\n",
    "print(lst2, id(lst2))                      #-----------------[10, 'Rossum'] 3084785902912\n",
    "\n",
    "lst1.append(\"Python\")\n",
    "print(lst1, id(lst1))             #   -------------[10, 'Rossum', 'Python'] 3084785902912\n",
    "print(lst2, id(lst2))                #   ------------[10, 'Rossum', 'Python'] 3084785902912\n",
    "\n",
    "lst2.insert(2,\"java\")\n",
    "print(lst1, id(lst1))                      #----------[10, 'Rossum', 'java', 'Python'] 3084785902912\n",
    "print(lst2, id(lst2))                #-----------[10, 'Rossum', 'java', 'Python'] 3084785902912"
   ]
  },
  {
   "cell_type": "markdown",
   "metadata": {},
   "source": [
    "==================================\n",
    "\n",
    "#### 9)  index():-\n",
    "\n",
    "==================================\n",
    "\n",
    "- This Function is used for finding first occurence index of the specified element.\n",
    "- If the specified element does not exists then we get ValueError\n",
    "\n",
    "                        Syntax:-       listobj.index(element)\n"
   ]
  },
  {
   "cell_type": "code",
   "execution_count": 40,
   "metadata": {},
   "outputs": [
    {
     "name": "stdout",
     "output_type": "stream",
     "text": [
      "[12, 'KVR', 'PYTHON', 'India', 'HYD', 45.67, 12]\n",
      "2\n",
      "0\n",
      "4\n"
     ]
    }
   ],
   "source": [
    "\n",
    "lst=[12, 'KVR', 'PYTHON', 'India', 'HYD', 45.67, 12]\n",
    "print(lst)                #------------[12, 'KVR', 'PYTHON', 'India', 'HYD', 45.67, 12]\n",
    "\n",
    "print(lst.index(\"PYTHON\"))              #---------2\n",
    "print(lst.index(12) )             #-----------0\n",
    "print(lst.index(\"HYD\"))                    #------------4\n"
   ]
  },
  {
   "cell_type": "code",
   "execution_count": 41,
   "metadata": {},
   "outputs": [
    {
     "ename": "ValueError",
     "evalue": "'Hyd' is not in list",
     "output_type": "error",
     "traceback": [
      "\u001b[1;31m---------------------------------------------------------------------------\u001b[0m",
      "\u001b[1;31mValueError\u001b[0m                                Traceback (most recent call last)",
      "\u001b[1;32m<ipython-input-41-1929900069c4>\u001b[0m in \u001b[0;36m<module>\u001b[1;34m\u001b[0m\n\u001b[1;32m----> 1\u001b[1;33m \u001b[0mprint\u001b[0m\u001b[1;33m(\u001b[0m\u001b[0mlst\u001b[0m\u001b[1;33m.\u001b[0m\u001b[0mindex\u001b[0m\u001b[1;33m(\u001b[0m\u001b[1;34m\"Hyd\"\u001b[0m\u001b[1;33m)\u001b[0m \u001b[1;33m)\u001b[0m               \u001b[1;31m#----------ValueError: 'Hyd' is not in list\u001b[0m\u001b[1;33m\u001b[0m\u001b[1;33m\u001b[0m\u001b[0m\n\u001b[0m\u001b[0;32m      2\u001b[0m \u001b[0mprint\u001b[0m\u001b[1;33m(\u001b[0m\u001b[0mlst\u001b[0m\u001b[1;33m.\u001b[0m\u001b[0mindex\u001b[0m\u001b[1;33m(\u001b[0m\u001b[1;36m100\u001b[0m\u001b[1;33m)\u001b[0m \u001b[1;33m)\u001b[0m             \u001b[1;31m#------------ValueError: 100 is not in list\u001b[0m\u001b[1;33m\u001b[0m\u001b[1;33m\u001b[0m\u001b[0m\n",
      "\u001b[1;31mValueError\u001b[0m: 'Hyd' is not in list"
     ]
    }
   ],
   "source": [
    "print(lst.index(\"Hyd\") )               #----------ValueError: 'Hyd' is not in list\n",
    "print(lst.index(100) )             #------------ValueError: 100 is not in list\n"
   ]
  },
  {
   "cell_type": "markdown",
   "metadata": {},
   "source": [
    "==================================\n",
    "\n",
    "#### 10) extend():\n",
    "\n",
    "==================================\n",
    "\n",
    "- This function is used for adding the content of one list object into another list object.    So that we can extend the function of list\n",
    "- The extend() take only one object at a time but not multiple objects.\n",
    "                        \n",
    "                        Syntax:-  listobj1.extend(listobj2)\n",
    "\n"
   ]
  },
  {
   "cell_type": "code",
   "execution_count": 38,
   "metadata": {},
   "outputs": [
    {
     "name": "stdout",
     "output_type": "stream",
     "text": [
      "[10, 'Harsha']\n",
      "['PYTHON', 'JAVA']\n",
      "[10, 'Harsha', 'PYTHON', 'JAVA']\n",
      "['PYTHON', 'JAVA']\n",
      "[10, 'Harsha']\n",
      "['PYTHON', 'JAVA']\n",
      "['Oracle', 'MySQL']\n"
     ]
    }
   ],
   "source": [
    "lst1=[10,\"Harsha\"]\n",
    "lst2=[\"PYTHON\",\"JAVA\"]\n",
    "print(lst1)                           #----------------[10, 'Harsha']\n",
    "print(lst2)                               #-----------------['PYTHON', 'JAVA']\n",
    "\n",
    "lst1.extend(lst2)\n",
    "print(lst1)                             #---------------[10, 'Harsha', 'PYTHON', 'JAVA']\n",
    "print(lst2)                          #---------------['PYTHON', 'JAVA']\n",
    "\n",
    "lst1=[10,\"Harsha\"]\n",
    "lst2=[\"PYTHON\",\"JAVA\"]\n",
    "lst3=[\"Oracle\",\"MySQL\"]\n",
    "print(lst1)                               #-------------[10, 'Harsha']\n",
    "print(lst2)                           #---------------['PYTHON', 'JAVA']\n",
    "print(lst3)                   #-------------['Oracle', 'MySQL']"
   ]
  },
  {
   "cell_type": "code",
   "execution_count": 36,
   "metadata": {
    "collapsed": true
   },
   "outputs": [
    {
     "ename": "NameError",
     "evalue": "name 'st1' is not defined",
     "output_type": "error",
     "traceback": [
      "\u001b[1;31m---------------------------------------------------------------------------\u001b[0m",
      "\u001b[1;31mNameError\u001b[0m                                 Traceback (most recent call last)",
      "\u001b[1;32m<ipython-input-36-d4b5a9914e00>\u001b[0m in \u001b[0;36m<module>\u001b[1;34m\u001b[0m\n\u001b[1;32m----> 1\u001b[1;33m \u001b[0mst1\u001b[0m\u001b[1;33m.\u001b[0m\u001b[0mextend\u001b[0m\u001b[1;33m(\u001b[0m\u001b[0mlst2\u001b[0m\u001b[1;33m,\u001b[0m\u001b[0mlst3\u001b[0m\u001b[1;33m)\u001b[0m                     \u001b[1;31m#-----TypeError: list.extend() takes exactly one argument (2 given)\u001b[0m\u001b[1;33m\u001b[0m\u001b[1;33m\u001b[0m\u001b[0m\n\u001b[0m",
      "\u001b[1;31mNameError\u001b[0m: name 'st1' is not defined"
     ]
    }
   ],
   "source": [
    "st1.extend(lst2,lst3)                     #-----TypeError: list.extend() takes exactly one argument (2 given)"
   ]
  },
  {
   "cell_type": "markdown",
   "metadata": {},
   "source": [
    "\n",
    "##### Note:\n",
    "\n",
    "- With  + operator, we can extend the functionality one list object with many other list objects:\n",
    "\n",
    "            Syntax :    listobject=listobj1+listob2+listobj3+.....listobj-n\n",
    "\n",
    "\n"
   ]
  },
  {
   "cell_type": "code",
   "execution_count": 37,
   "metadata": {},
   "outputs": [
    {
     "name": "stdout",
     "output_type": "stream",
     "text": [
      "[10, 'Harsha']\n",
      "['PYTHON', 'JAVA']\n",
      "['Oracle', 'MySQL']\n",
      "[10, 'Harsha', 'PYTHON', 'JAVA', 'Oracle', 'MySQL']\n",
      "[10, 'Harsha', 'PYTHON', 'JAVA', 'Oracle', 'MySQL'] 2331222515008\n"
     ]
    }
   ],
   "source": [
    "lst1=[10,\"Harsha\"]\n",
    "lst2=[\"PYTHON\",\"JAVA\"]\n",
    "lst3=[\"Oracle\",\"MySQL\"]\n",
    "print(lst1)                      #-------------[10, 'Harsha']\n",
    "print(lst2)                   #---------------['PYTHON', 'JAVA']\n",
    "print(lst3)                                   #-------------['Oracle', 'MySQL']\n",
    "\n",
    "lst1=lst1+lst2+lst3\n",
    "print(lst1)                              #----------[10, 'Harsha', 'PYTHON', 'JAVA', 'Oracle', 'MySQL']\n",
    "\n",
    "lst1=[10,\"Harsha\"]\n",
    "lst2=[\"PYTHON\",\"JAVA\"]\n",
    "lst3=[\"Oracle\",\"MySQL\"]\n",
    "lst1.extend(lst2+lst3)\n",
    "print(lst1, id(lst1))                         #---[10, 'Harsha', 'PYTHON', 'JAVA', 'Oracle', 'MySQL'] 3084777454528"
   ]
  },
  {
   "cell_type": "markdown",
   "metadata": {},
   "source": [
    "==================================\n",
    "\n",
    "#### 11) reverse()\n",
    "\n",
    "==================================\n",
    "\n",
    "- This function is used for obtaining reverse of original elements of list\n",
    "\n",
    "                        Syntax:-\n",
    "\n",
    "                                    listobj.reverse()\n"
   ]
  },
  {
   "cell_type": "code",
   "execution_count": 30,
   "metadata": {},
   "outputs": [
    {
     "name": "stdout",
     "output_type": "stream",
     "text": [
      "[10, 'Rossum', 23.45, True] 2331223371648\n",
      "[True, 23.45, 'Rossum', 10] 2331223371648\n",
      "[10, 34, 6, 78, -34, 61, -6] 2331222842624\n",
      "[-6, 61, -34, 78, 6, 34, 10] 2331222842624\n"
     ]
    }
   ],
   "source": [
    "\n",
    "lst1=[10,\"Rossum\",23.45,True]\n",
    "print(lst1, id(lst1))                    #------[10, 'Rossum', 23.45, True] 2125268220992\n",
    "\n",
    "lst1.reverse()\n",
    "print(lst1, id(lst1))                      #------[True, 23.45, 'Rossum', 10] 2125268220\n",
    "\n",
    "lst2=[10,34,6,78,-34,61,-6]\n",
    "print(lst2, id(lst2))                          #--------[10, 34, 6, 78, -34, 61, -6] 2125276726336\n",
    "\n",
    "lst2.reverse()\n",
    "print(lst2, id(lst2))                          #------[-6, 61, -34, 78, 6, 34, 10] 2125276726336\n"
   ]
  },
  {
   "cell_type": "markdown",
   "metadata": {},
   "source": [
    "==================================\n",
    "\n",
    "#### 12) sort():\n",
    "\n",
    "==================================\n",
    "\n",
    "- This function is used for sorting given data either in ascending  or decending order by ensuring that data must be of same type.\n",
    "\n",
    "                                    Syntax1:-     listobj.sort(reverse=False)\t\n",
    "                                                    (OR)\n",
    "                                                   listobj.sort()\n",
    "\n",
    "                                    Syntax2:-     listobj.sort(reverse=True)\t\t\n",
    "\n"
   ]
  },
  {
   "cell_type": "code",
   "execution_count": 28,
   "metadata": {},
   "outputs": [
    {
     "name": "stdout",
     "output_type": "stream",
     "text": [
      "[10, 34, 6, 78, -34, 61, -6] 2331222137792\n",
      "[-34, -6, 6, 10, 34, 61, 78] 2331222137792\n",
      "[78, 61, 34, 10, 6, -6, -34] 2331222137792\n"
     ]
    }
   ],
   "source": [
    "\n",
    "lst2=[10,34,6,78,-34,61,-6]\n",
    "print(lst2, id(lst2))                    #-----------[10, 34, 6, 78, -34, 61, -6] 2125268220992\n",
    "\n",
    "lst2.sort()   # by default asceneding order\n",
    "print(lst2, id(lst2))                    #--------[-34, -6, 6, 10, 34, 61, 78]   2125268220992\n",
    "\n",
    "lst2.reverse()\n",
    "print(lst2, id(lst2))                      #----[78, 61, 34, 10, 6, -6, -34]      2125268220992\n"
   ]
  },
  {
   "cell_type": "code",
   "execution_count": 29,
   "metadata": {},
   "outputs": [
    {
     "name": "stdout",
     "output_type": "stream",
     "text": [
      "['sachin', 'atul', 'omkar', 'nilesh', 'rossum']\n",
      "['atul', 'nilesh', 'omkar', 'rossum', 'sachin']\n",
      "['sachin', 'rossum', 'omkar', 'nilesh', 'atul']\n",
      "['atul', 'nilesh', 'omkar', 'rossum', 'sachin']\n"
     ]
    }
   ],
   "source": [
    "\n",
    "lst3=[\"sachin\",\"atul\",\"omkar\",\"nilesh\",\"rossum\"]\n",
    "print(lst3)                               #--------['sachin', 'atul', 'omkar', 'nilesh', 'rossum']\n",
    "\n",
    "lst3.sort()\n",
    "print(lst3)                           #----------['atul', 'nilesh', 'omkar', 'rossum', 'sachin']\n",
    "\n",
    "lst3=[\"sachin\",\"atul\",\"omkar\",\"nilesh\",\"rossum\"]\n",
    "lst3.sort(reverse=True)\n",
    "print(lst3)                                    #------------['sachin', 'rossum', 'omkar', 'nilesh', 'atul']\n",
    "\n",
    "lst3.sort()\n",
    "print(lst3)                                      #------------['atul', 'nilesh', 'omkar', 'rossum', 'sachin']"
   ]
  },
  {
   "cell_type": "markdown",
   "metadata": {},
   "source": [
    "===============================================================================================================\n",
    "\n",
    "### Inner(OR) Nested List\n",
    "    \n",
    "==============================================================================================================\n",
    "\n",
    "- The process of defining one list inside of another list is called Inner / nested list.\n",
    "\n",
    "                Syntax:-   listobj=[ val1,val2, [val11,val12.....],  [val21,val22.....],  val-n ]\n",
    "\n",
    "\n",
    "Requirment:\n",
    "\n",
    "- store student details such as stno, name, internal marks of 3 subjects,external marks of 3 subjects and college name\n",
    "\n",
    "Inner representation for above requirement\n",
    "\n",
    "        stlist=[12,\"Roosum\", [14,20,18] , [67,89,99] , \"OUCET\" ]\n",
    "\n"
   ]
  },
  {
   "attachments": {
    "INNER%20LIST%20MEMORY%20MANAGEMENT.png": {
     "image/png": "[encoded data removed]"
    }
   },
   "cell_type": "markdown",
   "metadata": {},
   "source": [
    "![INNER%20LIST%20MEMORY%20MANAGEMENT.png](attachment:INNER%20LIST%20MEMORY%20MANAGEMENT.png)"
   ]
  },
  {
   "cell_type": "code",
   "execution_count": 8,
   "metadata": {},
   "outputs": [
    {
     "data": {
      "text/plain": [
       "[12, 'Roosum', [14, 20, 18], 'OUCET']"
      ]
     },
     "execution_count": 8,
     "metadata": {},
     "output_type": "execute_result"
    }
   ],
   "source": [
    "\n",
    "inlist=[14,20,18]\n",
    "\n",
    "extlist=[67,89,99]\n",
    "\n",
    "stlist=[12,\"Roosum\",\"OUCET\" ]\n",
    "\n",
    "#add one list elements to another list as inner list\n",
    "stlist.insert(2,inlist)\n",
    "\n",
    "stlist"
   ]
  },
  {
   "cell_type": "code",
   "execution_count": 9,
   "metadata": {},
   "outputs": [
    {
     "data": {
      "text/plain": [
       "[12, 'Roosum', [14, 20, 18], [67, 89, 99], 'OUCET']"
      ]
     },
     "execution_count": 9,
     "metadata": {},
     "output_type": "execute_result"
    }
   ],
   "source": [
    "#add one list elements to another list as inner list\n",
    "stlist.insert(3,extlist)\n",
    "\n",
    "stlist"
   ]
  },
  {
   "cell_type": "code",
   "execution_count": 13,
   "metadata": {},
   "outputs": [
    {
     "name": "stdout",
     "output_type": "stream",
     "text": [
      "[12, 'Roosum', 'OUCET']\n",
      "[12, 'Roosum', [14, 20, 18], 'OUCET']\n",
      "[12, 'Roosum', [14, 20, 18], [67, 89, 99], 'OUCET']\n"
     ]
    }
   ],
   "source": [
    "stlist=[12,\"Roosum\",\"OUCET\"]\n",
    "inlist=[14,20,18]\n",
    "\n",
    "stlist.insert(2,inlist)\n",
    "\n",
    "stlist=[12,\"Roosum\",\"OUCET\"]\n",
    "inlist=[14,20,18]\n",
    "print(stlist)                            #-------------------[12, 'Roosum', 'OUCET']\n",
    "\n",
    "stlist.insert(2,inlist)\n",
    "print(stlist)                          #----------------[12, 'Roosum', [14, 20, 18], 'OUCET']\n",
    "\n",
    "extlist=[67,89,99]\n",
    "stlist.insert(3,extlist)\n",
    "print(stlist)                            #--------------[12, 'Roosum', [14, 20, 18], [67, 89, 99], 'OUCET']\n",
    " "
   ]
  },
  {
   "cell_type": "code",
   "execution_count": 14,
   "metadata": {},
   "outputs": [
    {
     "name": "stdout",
     "output_type": "stream",
     "text": [
      "[12, 'Rossum', [14, 20, 18], [67, 89, 99], 'OUCET']\n",
      "[99, 89, 67]\n",
      "[12, 'Roosum', [14, 18, 20], [67, 89, 99], 'OUCET']\n",
      "[12, 'Roosum', [14, 18, 20, 17], [67, 89, 99], 'OUCET']\n",
      "[12, 'Roosum', [14, 18, 20, 17], [67, 59, 89, 99], 'OUCET']\n",
      "[12, 'Roosum', [14, 18, 17], [67, 59, 89, 99], 'OUCET']\n",
      "[12, 'Roosum', [14, 18, 17], [67, 59, 99], 'OUCET']\n"
     ]
    }
   ],
   "source": [
    "  \n",
    "    #------------------------------(OR)---------------------------------------------------------\n",
    "\n",
    "stlist1=[12,\"Rossum\",[14,20,18],[67,89,99], \"OUCET\"]\n",
    "print(stlist1)\n",
    "print(stlist[-2][::-1])       #------------------[99, 89, 67]\n",
    "\n",
    "stlist[-3].sort()\n",
    "print(stlist)               #--------------------[12, 'Roosum', [14, 18, 20], [67, 89, 99], 'OUCET']\n",
    "\n",
    "stlist[2].append(17)\n",
    "print(stlist)                  #---------------[12, 'Roosum', [14, 18, 20, 17], [67, 89, 99], 'OUCET']\n",
    "\n",
    "stlist[-2].insert(1,59)\n",
    "print(stlist)                   #-------------[12, 'Roosum', [14, 18, 20, 17], [67, 59, 89, 99], 'OUCET']\n",
    "\n",
    "stlist[2].pop(2)          #------------20\n",
    "print(stlist)                #    ---------[12, 'Roosum', [14, 18, 17], [67, 59, 89, 99], 'OUCET']\n",
    "\n",
    "stlist[-2].remove(89)\n",
    "print(stlist)                         #---------------[12, 'Roosum', [14, 18, 17], [67, 59, 99], 'OUCET']\n"
   ]
  },
  {
   "cell_type": "markdown",
   "metadata": {},
   "source": [
    "xxxxxxxxxxxxxxxxxxxxxxxxxxxxxxxxxxxxxxxxxxxxxxxxxxxxxxxxxxxxxxxxxxxxxxxxxxxxxxxxxxxxxxxxxxxxxxxxxxxxxxxxxxxxxxxxxxxxxxxxxxx\n",
    "\n",
    "## 2. tuple \n",
    "\n",
    "\n",
    "\n",
    "=====================================================================================\n",
    "\n",
    "### Properties of tuple data type:\n",
    "\n",
    "=====================================================================================\n",
    "\n",
    "- 'tuple' is one of the pre-defined class and treated as List type data type(Collections data types)\n",
    "- The purpose of tuple type data type is that \" To store multiple values either of same or different type or both the data types with Unique and duplicate values \"\n",
    "- The elements of tuple must be organized in the form of braces ( ) and elements must                    separated by comma.\n",
    "\n",
    "                                    Syntax:             varname=( val1,val2....val-n )\n",
    "\n",
    "                                                 here,  varname is an object of type <class, 'tuple'>\n",
    "                                                 \n",
    "- An object of tuple maintains Insertion Order ( Whatever the order we inserted , in the same order elements will be displayed )\n",
    "- On the object of tuple, we can perform Both Indexing and Slicing Operations\n",
    "- To convert one type of Possible value into tuple type values, we use tuple()\n",
    "\t\n",
    "                                         Syntax:-     tplobj=tuple(another object)\n",
    "\n",
    "\n"
   ]
  },
  {
   "cell_type": "markdown",
   "metadata": {},
   "source": [
    "#### Types of Tuples - \n",
    "\n",
    "- We have two types of tuple. They are\n",
    "\t\ta) Empty tuple\n",
    "\t\tb) non-Empty tuple\n",
    "        \n",
    "- A Empty tuple is one , whose length is 0 \n",
    "\n",
    "*Syntax for creating empty tuple:*\n",
    "\n",
    "                                              tplobj=( )\n",
    "                                                 (or)\n",
    "                                            tplobj=tuple()\n",
    "\n",
    "- Non-empty tuple is one, whose length is >0\n",
    "\t\n",
    "                                        Syntax:     tplobj=(val1,val2....val-n)\n",
    "\n",
    "- An object of tuple is immutable.\n",
    "\n",
    "###### Note:- The functionality of tuple is exactly similar to the functionality of list but an object of tuple belongs to immutable and an object of list belongs to mutable.\n"
   ]
  },
  {
   "cell_type": "code",
   "execution_count": 15,
   "metadata": {},
   "outputs": [
    {
     "name": "stdout",
     "output_type": "stream",
     "text": [
      "() <class 'tuple'> 0\n",
      "() <class 'tuple'> 0\n"
     ]
    }
   ],
   "source": [
    "\n",
    "t1=()\n",
    "print(t1,type(t1), len(t1))               #--------() <class 'tuple'> 0\n",
    "t2=tuple()\n",
    "print(t2,type(t2), len(t2))                             #-------() <class 'tuple'> 0\n"
   ]
  },
  {
   "cell_type": "code",
   "execution_count": 16,
   "metadata": {},
   "outputs": [
    {
     "name": "stdout",
     "output_type": "stream",
     "text": [
      "(10, 20, 30, -3, 10.34, 56.23, 10) <class 'tuple'> 7 2331222032096\n"
     ]
    }
   ],
   "source": [
    "t3=(10,20,30,-3,10.34,56.23,10)\n",
    "\n",
    "print(t3,type(t3), len(t3),id(t3))                 #---(10, 20, 30, -3, 10.34, 56.23, 10) <class 'tuple'> \t2125273572448\n"
   ]
  },
  {
   "cell_type": "code",
   "execution_count": 19,
   "metadata": {
    "collapsed": true
   },
   "outputs": [
    {
     "ename": "TypeError",
     "evalue": "'tuple' object does not support item assignment",
     "output_type": "error",
     "traceback": [
      "\u001b[1;31m---------------------------------------------------------------------------\u001b[0m",
      "\u001b[1;31mTypeError\u001b[0m                                 Traceback (most recent call last)",
      "\u001b[1;32m<ipython-input-19-9aeedc64bbe3>\u001b[0m in \u001b[0;36m<module>\u001b[1;34m\u001b[0m\n\u001b[1;32m----> 1\u001b[1;33m \u001b[0mt3\u001b[0m\u001b[1;33m[\u001b[0m\u001b[1;36m0\u001b[0m\u001b[1;33m]\u001b[0m\u001b[1;33m=\u001b[0m\u001b[1;36m100\u001b[0m                  \u001b[1;31m#----TypeError: 'tuple' object does not support item assignment\u001b[0m\u001b[1;33m\u001b[0m\u001b[1;33m\u001b[0m\u001b[0m\n\u001b[0m\u001b[0;32m      2\u001b[0m \u001b[1;33m\u001b[0m\u001b[0m\n\u001b[0;32m      3\u001b[0m \u001b[0mt3\u001b[0m\u001b[1;33m.\u001b[0m\u001b[0mappend\u001b[0m\u001b[1;33m(\u001b[0m\u001b[1;36m100\u001b[0m\u001b[1;33m)\u001b[0m                        \u001b[1;31m#---AttributeError: 'tuple' object has no attribute 'append'\u001b[0m\u001b[1;33m\u001b[0m\u001b[1;33m\u001b[0m\u001b[0m\n\u001b[0;32m      4\u001b[0m \u001b[1;33m\u001b[0m\u001b[0m\n",
      "\u001b[1;31mTypeError\u001b[0m: 'tuple' object does not support item assignment"
     ]
    }
   ],
   "source": [
    "\n",
    "t3[0]=100                  #----TypeError: 'tuple' object does not support item assignment\n",
    "\n",
    "t3.append(100)                        #---AttributeError: 'tuple' object has no attribute 'append'\n",
    "\n"
   ]
  },
  {
   "cell_type": "code",
   "execution_count": 20,
   "metadata": {},
   "outputs": [
    {
     "name": "stdout",
     "output_type": "stream",
     "text": [
      "10\n",
      "(10, 20, 30, -3)\n"
     ]
    }
   ],
   "source": [
    "print(t3[0])                  #---------10\n",
    "print(t3[0:4])                  #------(10, 20, 30, -3)"
   ]
  },
  {
   "cell_type": "markdown",
   "metadata": {},
   "source": [
    "=================================================\n",
    "\n",
    "#### Additional Operations on tuple \n",
    "    \n",
    "=================================================\n",
    "        \n",
    "- on the object of tuple we can perform the foloowing along Indexing and slicing.\n",
    "\n",
    "\t\ta) count()\n",
    "\t\tb) index()\n",
    "\n",
    "------------------------------------------------------------------------------------------------------\n",
    "##### Note:-Functions which are not present in tuple ( But present in List)\n",
    "-------------------------------------------------------------------------------------------------------\n",
    "\n",
    "1) append()--------------------NO\n",
    "\n",
    "2) insert()----------------------NO\n",
    "\n",
    "3) remove()--------------------NO\n",
    "\n",
    "4) pop(), pop(index)---------NO\n",
    "\n",
    "5) copy()------------------------NO\n",
    "\n",
    "6) extend()----------------------NO\n",
    "\n",
    "7) reverse()--------------------NO\n",
    "\n",
    "8) sort()---------------------------NO\n",
    "\n",
    "9) clear()-----------------------NO\n"
   ]
  }
 ],
 "metadata": {
  "kernelspec": {
   "display_name": "Python 3",
   "language": "python",
   "name": "python3"
  },
  "language_info": {
   "codemirror_mode": {
    "name": "ipython",
    "version": 3
   },
   "file_extension": ".py",
   "mimetype": "text/x-python",
   "name": "python",
   "nbconvert_exporter": "python",
   "pygments_lexer": "ipython3",
   "version": "3.8.5"
  }
 },
 "nbformat": 4,
 "nbformat_minor": 4
}
