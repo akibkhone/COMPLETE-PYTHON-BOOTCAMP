{
 "cells": [
  {
   "attachments": {
    "AK.png": {
     "image/png": "[encoded data removed]"
    }
   },
   "cell_type": "markdown",
   "metadata": {},
   "source": [
    "___\n",
    "\n",
    "<a href='https://akibkhan.tk/'>![AK.png](attachment:AK.png) </a>\n",
    "___\n",
    "<center><em>Content Copyright by Akib Khan </em></center>"
   ]
  },
  {
   "cell_type": "markdown",
   "metadata": {},
   "source": [
    "### <center> PARAMETER AND ARGUMENTS IN FUNCTION"
   ]
  },
  {
   "cell_type": "markdown",
   "metadata": {},
   "source": [
    "- Parameters are those which are used in function heading and those parameters are called formal parameters.\n",
    "<br>\n",
    "- The purpose of parameter is that \"to store the inputs coming from function calls\" and whose values can be accessed  within correspong function function defination only but not possible to access within another function definations.\n",
    "<br>\n",
    "- Arguments are nothing but the variable(s)/value(s) used in the function calls  "
   ]
  },
  {
   "cell_type": "code",
   "execution_count": null,
   "metadata": {},
   "outputs": [],
   "source": [
    "def aop(a,b):       #Here a,b are called formal parameters\n",
    "    c=a+b\n",
    "    print(\"sum={}\".format(c))\n",
    "\n",
    "\n",
    "\n",
    "#main program\n",
    "m = float(input(\"Enter Value of m:\"))\n",
    "n = float(input(\"Enter Value of n:\"))\n",
    "aop(m,n) #...........................................FUNCTION CALLS WHERE a,b are called Arguments.\n",
    "    "
   ]
  },
  {
   "cell_type": "markdown",
   "metadata": {},
   "source": [
    "#### Types of Arguments / Parameter Passing Mechanism\n",
    "\n",
    "Based on the values of passing from function call to function defination. <br>\n",
    "The Parameters (or) arguments are classified into 5 types: <br>\n",
    "\n",
    "1. Positional Arguments/ parameters\n",
    "2. Default parameter / Arguments\n",
    "3. Keyword Parameters / Arguments\n",
    "4. Variable Length\n",
    "5.  Key word Variable Length Parameter\n",
    "\n",
    "\n",
    "\n"
   ]
  },
  {
   "cell_type": "markdown",
   "metadata": {},
   "source": [
    "####  1. Positional Arguments/ parameters\n",
    "\n",
    "The concept of Positional Arguments says that \" The no. of Arguments in function call must be similar to the no. of formal parameters and it is also recommended to ensure that order must be followed\"\n",
    "\n",
    "##### Syntax for function defination :    \n",
    "\n",
    "def functionname (param1,param2,.....,param-n):\n",
    "         \n",
    "          BLOCK STATEMENTS\n",
    "\n",
    "##### Syntax for function calls :\n",
    "\n",
    "functionname (arg1,arg2,....,arg-n)\n",
    "\n",
    "\n",
    "Here the values of arg1,arg2,....,arg-n are passing to param1,param2,.....,param-n respectively\n"
   ]
  },
  {
   "cell_type": "code",
   "execution_count": null,
   "metadata": {},
   "outputs": [],
   "source": [
    "def dispstudinfo(stno,sname,marks):\n",
    "    print(\"Student Number : {}\".format(stno))\n",
    "    print(\"Student Name : {}\".format(sname))\n",
    "    print(\"Student Marks : {}\".format(marks))\n",
    "    \n",
    "    \n",
    "dispstudinfo(7,\"Zoya\", 100)"
   ]
  },
  {
   "cell_type": "code",
   "execution_count": null,
   "metadata": {},
   "outputs": [],
   "source": [
    "def dispstudinfo(stno,sname,marks,std):\n",
    "    print(\"Student Number : {}\".format(stno))\n",
    "    print(\"Student Name : {}\".format(sname))\n",
    "    print(\"Student Marks : {}\".format(marks))\n",
    "    \n",
    "    \n",
    "dispstudinfo(7,\"Zoya\", 100)"
   ]
  },
  {
   "cell_type": "code",
   "execution_count": null,
   "metadata": {},
   "outputs": [],
   "source": [
    "def dispstudinfo(stno,sname,marks,std):\n",
    "    print(\"Student Number : {}\".format(stno))\n",
    "    print(\"Student Name : {}\".format(sname))\n",
    "    print(\"Student Marks : {}\".format(marks))\n",
    "    \n",
    "    \n",
    "dispstudinfo(7,\"Zoya\", 100 , 3)"
   ]
  },
  {
   "cell_type": "code",
   "execution_count": null,
   "metadata": {},
   "outputs": [],
   "source": [
    "def dispstudinfo(stno,sname,marks):\n",
    "    print(\"Student Number : {}\".format(stno))\n",
    "    print(\"Student Name : {}\".format(sname))\n",
    "    print(\"Student Marks : {}\".format(marks))\n",
    "    \n",
    "    \n",
    "dispstudinfo(7,\"Zoya\", 100,3) #function calls"
   ]
  },
  {
   "cell_type": "code",
   "execution_count": null,
   "metadata": {},
   "outputs": [],
   "source": [
    "def dispstudinfo(stno,sname,marks):\n",
    "    print(\"Student Number : {}\".format(stno))\n",
    "    print(\"Student Name : {}\".format(sname))\n",
    "    print(\"Student Marks : {}\".format(marks))\n",
    "    \n",
    "    \n",
    "dispstudinfo(\"Zoya\",7,  100)"
   ]
  },
  {
   "cell_type": "code",
   "execution_count": null,
   "metadata": {},
   "outputs": [],
   "source": [
    "def dispstudinfo(stno,sname,marks):\n",
    "    print(\"\\t{}\\t{}\\t{}\".format(stno,sname,marks))\n",
    "    \n",
    "  \n",
    "print (\"\\tsno\\tName\\tMarks\")\n",
    "print(\"-\"*30)\n",
    "\n",
    "dispstudinfo(7,\"Zoya\", 100)\n",
    "dispstudinfo(8,\"Daniyal\", 100)\n",
    "dispstudinfo(9,\"Akib\", 100)"
   ]
  },
  {
   "cell_type": "markdown",
   "metadata": {},
   "source": [
    "####  2.Default Arguments / parameters\n",
    "\n",
    "When the value is common for many function calls then we should not pass such common values as Arguments in function calls bcz it takes PVM transfer those values everytime when the function call(S) take place and this process takes more execution time.\n",
    "<br>\n",
    "To reduce the execution time we must used the default parameter/Arguments.\n",
    "<br>\n",
    "In otherwords Default Parameters / Arguments concept says that \"commonb values must be taken as a (key,value) in function heading:\n",
    "\n",
    "\n",
    "##### Syntax for function defination :    \n",
    "\n",
    "def functionname (param1 ,param2,.....,param-n-1 = \"Value\",param-n = \"Value\"):\n",
    "         \n",
    "          BLOCK STATEMENTS\n",
    "          \n",
    "Here ,param-n-1 = \"Value\" & param-n = \"Value\" is called default parameter, which is represented in the form of (Key,Value).\n",
    "<br>\n",
    "The position of deafult parameter must be at the last position of the function heading\n",
    "\n",
    "##### Syntax for function calls :\n",
    "\n",
    "functionname (arg1,arg2,....,arg-n-3)\n",
    "\n",
    "\n",
    "Here the values of arg1,arg2,....,arg-n are passing to param1,param2,.....,param-n respectively\n"
   ]
  },
  {
   "cell_type": "code",
   "execution_count": null,
   "metadata": {},
   "outputs": [],
   "source": [
    "def dispstudinfo(stno,sname,marks = 100,add=\"Mumbai\"):\n",
    "    print(\"\\t{}\\t{}\\t{}\\t{}\".format(stno,sname,marks,add))\n",
    "    \n",
    "print(\"-\"*40) \n",
    "print (\"\\tsno \\tName\\tMarks\\tAddress\")\n",
    "print(\"-\"*40)\n",
    "\n",
    "dispstudinfo(7,\"Zoya\")\n",
    "dispstudinfo(8,\"Daniyal\")\n",
    "dispstudinfo(9,\"Akib\", 99)\n",
    "dispstudinfo(9,\"Asfa\", \"Bandra\")\n",
    "\n",
    "print(\"-\"*40)"
   ]
  },
  {
   "cell_type": "code",
   "execution_count": null,
   "metadata": {},
   "outputs": [],
   "source": [
    "def dispstudinfo(stno,sname,marks = 100,add=\"Mumbai\"):\n",
    "    print(\"\\t{}\\t{}\\t{}\\t{}\".format(stno,sname,marks,add))\n",
    "    \n",
    "print(\"-\"*40) \n",
    "print (\"\\tsno \\tName\\tMarks\\tAddress\")\n",
    "print(\"-\"*40)\n",
    "\n",
    "dispstudinfo(7,\"Zoya\")\n",
    "dispstudinfo(8,\"Daniyal\")\n",
    "dispstudinfo(9,\"Akib\", 99)\n",
    "dispstudinfo(9,\"Asfa\", \"Bandra\")\n",
    "\n",
    "print(\"-\"*40)"
   ]
  },
  {
   "cell_type": "code",
   "execution_count": null,
   "metadata": {},
   "outputs": [],
   "source": [
    "def summ(a=1,b=2,c=3):   #............ a=1,b=2,c=3 are called default arguments\n",
    "    print(f\"Sum of {a} , {b} and {c} = {a+b+c}\" )\n",
    "    \n",
    "summ()\n",
    "summ(10)\n",
    "summ(10,100)\n",
    "summ(10,100,1000)"
   ]
  },
  {
   "cell_type": "markdown",
   "metadata": {},
   "source": [
    "#### 3. Keyword Parameters / Arguments\n",
    "\n",
    "In some of the circumstances, we know the function name but we may not be knowing the order of the formal parameters and to pass the data accurately. we must use the concept of keyword arguments/ parameter.\n",
    "<br>\n",
    "In this concept Programmatically, Formal parameter names will be used  as keyword in the function call and <b>must be written after the positional argument.<b>\n",
    "\n",
    "##### Syntax for function defination :    \n",
    "\n",
    "def functionname (param1,param2,.....,param-n):\n",
    "         \n",
    "          BLOCK STATEMENTS\n",
    "\n",
    "##### Syntax for function calls :\n",
    "\n",
    "functionname (param1,param2,.....,param-n =\"value-n\")\n",
    "\n",
    "\n",
    "Here the values of keyword argument should passed after the positional argument. "
   ]
  },
  {
   "cell_type": "code",
   "execution_count": null,
   "metadata": {},
   "outputs": [],
   "source": [
    "def dispstudinfo(stno,sname,marks):\n",
    "    print(\"\\t{}\\t{}\\t{}\".format(stno,sname,marks))\n",
    "    \n",
    "  \n",
    "print (\"\\tsno\\tName\\tMarks\")\n",
    "print(\"-\"*30)\n",
    "\n",
    "dispstudinfo(7,\"Zoya\", 100)\n",
    "dispstudinfo(8,100,\"Daniyal\" )\n",
    "dispstudinfo(9, marks = 100, sname=\"Akib\" )\n",
    "dispstudinfo(marks = 100,stno=10, sname=\"Asfar\" )"
   ]
  },
  {
   "cell_type": "code",
   "execution_count": null,
   "metadata": {},
   "outputs": [],
   "source": [
    "def mul(b,c,a=1):          #.... here \"b\" is positional parameter,\" c \" is keyword parameter , \"a\" is default parameter\n",
    "    return (f\"the product of {a},{b} and {c} = {a*b*c}\")\n",
    "\n",
    "mul(2.5,c=-3)"
   ]
  },
  {
   "cell_type": "markdown",
   "metadata": {},
   "source": [
    "Write  python program which will accept student no. , student name, and marks in 3 subjects.\n",
    "<br>\n",
    "by using functions, calculate the total marks, % of marks, & decide the Grade."
   ]
  },
  {
   "cell_type": "code",
   "execution_count": null,
   "metadata": {},
   "outputs": [],
   "source": [
    "def studentresult(rollno,name,math,bio,phy):\n",
    "    totalmarks = math+bio+phy\n",
    "    percentage = totalmarks/3\n",
    "    print (f\"ROLL NUMBER OF THE STUDENT : {rollno}\")\n",
    "    print (f\"NAME OF THE STUDENT : {name}\")\n",
    "    print (f\"STUDENT MARKS IN MATH : {math}\")\n",
    "    print (f\"STUDENT MARKS IN BIOLOGY : {bio}\")\n",
    "    print (f\"STUDENT MARKS IN PHYSICS : {phy}\")\n",
    "    print (f\"STUDENT TOTAL MARKS : {totalmarks}\")\n",
    "    print (f\"STUDENT PERCENTAGE : {percentage}\")\n",
    "\n",
    "    #DECIDE THE GRADE\n",
    "    if (phy<40) or (math<40) or (bio<40) :\n",
    "        grade = \"FAIL\"\n",
    "    else:\n",
    "        if (phy>40) or (math>40) or (bio>40) :\n",
    "            if totalmarks in range(250,300):\n",
    "                grade = \"DISTINCTION\"\n",
    "\n",
    "            elif totalmarks in range(200,249):\n",
    "                grade = \"FIRST\"\n",
    "\n",
    "            elif totalmarks in range(150,199):\n",
    "                grade = \"SECOND\"\n",
    "\n",
    "        elif totalmarks in range(120,149):\n",
    "            grade = \"THIRD\"\n",
    "       \n",
    "    print (f\"STUDENT GRADE : {grade}\")        \n",
    "              \n",
    "studentresult(7,\"Akib\" ,99,90,97 )\n"
   ]
  },
  {
   "cell_type": "markdown",
   "metadata": {},
   "source": [
    "Write a python program which will accept a numerical integer value and generates its multiplication table using functions."
   ]
  },
  {
   "cell_type": "code",
   "execution_count": null,
   "metadata": {},
   "outputs": [],
   "source": [
    "def mul(n):\n",
    "    for i in range(1,11):\n",
    "        print(f\"{n} x {i} = {n*i}\")\n",
    "    \n",
    "mul(n=10)      "
   ]
  },
  {
   "cell_type": "markdown",
   "metadata": {},
   "source": [
    "Write a python program which will accept a numerical integer value and calculate its factorial table using functions."
   ]
  },
  {
   "cell_type": "code",
   "execution_count": 9,
   "metadata": {},
   "outputs": [
    {
     "name": "stdout",
     "output_type": "stream",
     "text": [
      "Enter Any Number To to Calculate its Factorial : 5\n",
      "The Factorial of 5 is 120\n"
     ]
    }
   ],
   "source": [
    "def factorial():\n",
    "   \n",
    "    n = int(input(\"Enter Any Number To to Calculate its Factorial : \"))\n",
    "\n",
    "    fac=1\n",
    "    \n",
    "    for i in range(1,n+1):\n",
    "        fac = fac*i\n",
    "    print(f\"The Factorial of {n} is {fac}\")\n",
    "\n",
    "factorial()"
   ]
  },
  {
   "cell_type": "markdown",
   "metadata": {},
   "source": [
    "Write a python program which will accept a numerical integer value and find whether it is prime or not using functions."
   ]
  },
  {
   "cell_type": "code",
   "execution_count": 7,
   "metadata": {},
   "outputs": [
    {
     "name": "stdout",
     "output_type": "stream",
     "text": [
      "41 is a Prime Number\n"
     ]
    }
   ],
   "source": [
    "def prime(n):\n",
    "\n",
    "    for i in range(2,n):\n",
    "        if (n%i) == 0:  \n",
    "            print(f\"{n} is not a Prime Number\") \n",
    "            break\n",
    "    else:\n",
    "        print(f\"{n} is a Prime Number\")\n",
    "        \n",
    "prime(41)"
   ]
  },
  {
   "cell_type": "markdown",
   "metadata": {},
   "source": [
    "Write a python program which will accept a numerical integer value and decide whether it is prime no. or not using functions."
   ]
  },
  {
   "cell_type": "code",
   "execution_count": null,
   "metadata": {},
   "outputs": [],
   "source": [
    "def isprime(n):\n",
    "\n",
    "    for i in range(2,n):\n",
    "        return (n%i) != 0 \n",
    "                       \n",
    "    else:\n",
    "        return (n%i) == 0 \n",
    "        \n",
    "isprime(487)"
   ]
  },
  {
   "cell_type": "markdown",
   "metadata": {},
   "source": [
    "Write a python program which will accept any 2 values and swap them by using bitwise XOR operator using functions.  "
   ]
  },
  {
   "cell_type": "code",
   "execution_count": null,
   "metadata": {},
   "outputs": [],
   "source": [
    "def swap(a,b):\n",
    "    \n",
    "    print (f\"Before swapping : a = {a} and b = {b}\")\n",
    "    \n",
    "    a ^= b\n",
    "    b ^= a\n",
    "    a ^= b\n",
    "    \n",
    "    print (f\"After swapping : a = {a} and b = {b}\")\n",
    "        \n",
    "swap(5,10)"
   ]
  },
  {
   "cell_type": "markdown",
   "metadata": {},
   "source": [
    "WAP which will calculate area and parameter of circle by using functions with common value \"pi\" using function."
   ]
  },
  {
   "cell_type": "code",
   "execution_count": null,
   "metadata": {},
   "outputs": [],
   "source": [
    "def circle(radius,pi=3.14):\n",
    "    print(f\"Area of the circle Having Radius {radius} is : {pi * radius ** 2}\")\n",
    "    print (f\"Parameter of the circle Having Radius {radius} is : {2 * pi * radius }\")\n",
    "\n",
    "circle(10)"
   ]
  },
  {
   "cell_type": "markdown",
   "metadata": {},
   "source": [
    "#### 4. Variable Length Parameter\n",
    "\n",
    "if we have similar fn calls with variable number of values as arguments then with normal python programming , we must define multiple fn defs and its lead to  more development time. to overcome this problem we used the concept variable length mechanism.\n",
    "\n",
    "<br>\n",
    "\n",
    "SYNTAX:\n",
    "\n",
    "        def functioname(list of formal parameters, *param name)\n",
    "        ....................\n",
    "        ................."
   ]
  },
  {
   "cell_type": "code",
   "execution_count": null,
   "metadata": {},
   "outputs": [],
   "source": [
    "#problem\n",
    "\n",
    "def disp(a):\n",
    "    print(a)\n",
    "    \n",
    "disp(3)   \n",
    "\n",
    "def disp(a,b):\n",
    "    print(a,b)\n",
    "\n",
    "disp(3,4)\n",
    "\n",
    "def disp(a,b,c):\n",
    "    print(a,b,c)\n",
    "    \n",
    "disp(3,4,5)"
   ]
  },
  {
   "cell_type": "code",
   "execution_count": null,
   "metadata": {},
   "outputs": [],
   "source": [
    "def disp(*a):\n",
    "    print (f\"type of a : {type(a)}\")\n",
    "    \n",
    "disp(3)\n",
    "disp(3,4)\n",
    "disp(3,4,5)"
   ]
  },
  {
   "cell_type": "code",
   "execution_count": null,
   "metadata": {},
   "outputs": [],
   "source": [
    "def disp(*a):\n",
    "    for val in a:\n",
    "        print(val,end=\" \")\n",
    "    print()\n",
    "    \n",
    "disp(1)\n",
    "disp(1,2)\n",
    "disp(1,2,3)\n",
    "disp(1,2,3,4)\n",
    "disp(1,2,3,4,5)\n",
    "disp(1,2,3,4,5,6)\n",
    "disp(1,2,3,4,5,6,7)\n",
    "disp(1,2,3,4,5,6,7,8)\n",
    "disp(1,2,3,4,5,6,7,8,9)\n",
    "disp(1,2,3,4,5,6,7,8,9,10)"
   ]
  },
  {
   "cell_type": "markdown",
   "metadata": {},
   "source": [
    "Write a python program which will calculate some of variable no. of values which is calculated by various students."
   ]
  },
  {
   "cell_type": "code",
   "execution_count": null,
   "metadata": {},
   "outputs": [],
   "source": [
    "def stu(a,*b):\n",
    "    print (f\"Student Name : {a} want sum of {list(b)}\")\n",
    "    print(f\"SUM of {a} numbers are : {sum(b)}\")\n",
    "    \n",
    "stu(\"Akib\",30,40,50,60,70,80)\n",
    "stu(\"bawa\",30,40,-70,8.6)\n",
    "stu(\"Asfa\",59,-30,50,60,370,80)\n",
    "stu(\"Zaar\",30)\n",
    "# stu(\"Akib\",\"Abdul\",\"Malik\", \"Khan\")"
   ]
  },
  {
   "cell_type": "markdown",
   "metadata": {},
   "source": [
    "#### 5.  Key word Variable Length Parameter\n",
    "\n",
    "if we have similar fn calls with variable number of values as arguments then with normal python programming , we must define multiple fns defs and its lead to  more development time. To overcome this problem we used the concept of Keyword variable length mechanism.\n",
    "\n",
    "<br>\n",
    "\n",
    "The advantage of this mw=echanism is that irrespective of key word variable no. odf values as arguments, we cam write single fn def and minimize the development time.\n",
    "\n",
    "<br> This Mechanism is of <strong> DICT  type and should be used at the last position in fn def incase of multiple parameters. </strong> \n",
    "\n",
    "SYNTAX:\n",
    "\n",
    "        def functioname(list of formal parameters, **param name)\n",
    "        ....................\n",
    "        ................."
   ]
  },
  {
   "cell_type": "code",
   "execution_count": null,
   "metadata": {},
   "outputs": [],
   "source": [
    "def stu(country=\"India\",**a):\n",
    "    for x,y in a.items():\n",
    "        print(x,\"-\", y)\n",
    "    print(\"country : \", country)\n",
    "    print(\"-\"*20)\n",
    "\n",
    "stu(name=\"Akib\",city=\"BWD\")\n",
    "stu(sname=\"Amir\",scity=\"BND\")\n",
    "stu(fname=\"Abid\",fcity=\"KUR\")"
   ]
  },
  {
   "cell_type": "markdown",
   "metadata": {},
   "source": [
    "Write a python program which will calculate total marks of various subjects secured by various students who are studying in different classes."
   ]
  },
  {
   "cell_type": "code",
   "execution_count": null,
   "metadata": {},
   "outputs": [],
   "source": [
    "def student(Name, Cls,**data):\n",
    "    totalmarks = []\n",
    "\n",
    "    print(\"Student Name : \", Name)\n",
    "    print(\"Student Class : \", Cls)\n",
    "    \n",
    "    for a,b in data.items():\n",
    "        print(a,b)\n",
    "        totalmarks.append(b)\n",
    "    print(\"Total Marks : \",sum(totalmarks))\n",
    "    print('\\n')     \n",
    "    \n",
    "student(Name=\"Akib\",Cls = \"7th\", English = 98 , Math = 80)\n",
    "student(Name=\"Asfa\",Cls = \"7th\", Geography = 99 , English = 99)\n",
    "student(Name=\"Amaan\",Cls = \"9th\", History = 88 , Civics = 87)"
   ]
  },
  {
   "cell_type": "code",
   "execution_count": null,
   "metadata": {},
   "outputs": [],
   "source": []
  }
 ],
 "metadata": {
  "kernelspec": {
   "display_name": "Python 3",
   "language": "python",
   "name": "python3"
  },
  "language_info": {
   "codemirror_mode": {
    "name": "ipython",
    "version": 3
   },
   "file_extension": ".py",
   "mimetype": "text/x-python",
   "name": "python",
   "nbconvert_exporter": "python",
   "pygments_lexer": "ipython3",
   "version": "3.8.5"
  }
 },
 "nbformat": 4,
 "nbformat_minor": 4
}
